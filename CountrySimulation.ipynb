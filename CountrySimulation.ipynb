{
 "cells": [
  {
   "cell_type": "markdown",
   "id": "2b72565f",
   "metadata": {},
   "source": [
    "### Handle Imports"
   ]
  },
  {
   "cell_type": "code",
   "execution_count": 2,
   "id": "2f3a1795",
   "metadata": {},
   "outputs": [],
   "source": [
    "import numpy\n",
    "import pandas"
   ]
  },
  {
   "cell_type": "markdown",
   "id": "01965101",
   "metadata": {},
   "source": [
    "### File Upload"
   ]
  },
  {
   "cell_type": "code",
   "execution_count": null,
   "id": "d76f8ebc",
   "metadata": {},
   "outputs": [],
   "source": []
  }
 ],
 "metadata": {
  "kernelspec": {
   "display_name": "Python 3 (ipykernel)",
   "language": "python",
   "name": "python3"
  },
  "language_info": {
   "codemirror_mode": {
    "name": "ipython",
    "version": 3
   },
   "file_extension": ".py",
   "mimetype": "text/x-python",
   "name": "python",
   "nbconvert_exporter": "python",
   "pygments_lexer": "ipython3",
   "version": "3.8.11"
  }
 },
 "nbformat": 4,
 "nbformat_minor": 5
}
