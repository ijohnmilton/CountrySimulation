{
 "cells": [
  {
   "cell_type": "markdown",
   "id": "2b72565f",
   "metadata": {},
   "source": [
    "## Handle Imports"
   ]
  },
  {
   "cell_type": "code",
   "execution_count": null,
   "id": "2f3a1795",
   "metadata": {},
   "outputs": [],
   "source": [
    "import numpy as np\n",
    "import pandas as pd\n",
    "import heapq as pq\n",
    "import csv\n",
    "import statistics as stats"
   ]
  },
  {
   "cell_type": "markdown",
   "id": "01965101",
   "metadata": {},
   "source": [
    "# Upload methods"
   ]
  },
  {
   "cell_type": "markdown",
   "id": "60ca0d91",
   "metadata": {},
   "source": [
    "### Load Countries"
   ]
  },
  {
   "cell_type": "code",
   "execution_count": null,
   "id": "d76f8ebc",
   "metadata": {},
   "outputs": [],
   "source": [
    "def load_countries() -> dict:\n",
    "    countries = {}\n",
    "\n",
    "    with open(\"countries.csv\") as file:\n",
    "        reader = csv.DictReader(file)\n",
    "        for row in reader:\n",
    "            key = row[\"Country\"]\n",
    "            countries[key] = {name: float(value) for name, value in row.items() if name != \"Country\"}\n",
    "\n",
    "    return countries"
   ]
  },
  {
   "cell_type": "markdown",
   "id": "11e0f18d",
   "metadata": {},
   "source": [
    "### Load Resources"
   ]
  },
  {
   "cell_type": "code",
   "execution_count": null,
   "id": "d6632bad",
   "metadata": {},
   "outputs": [],
   "source": [
    "def load_resources() -> dict:\n",
    "    resources = {}\n",
    "\n",
    "    with open(\"resources.csv\") as file:\n",
    "        reader = csv.DictReader(file)\n",
    "        for row in reader:\n",
    "            key = row[\"Resource\"]\n",
    "            resources[key] = {name: float(value) if name == \"Weight\" else value for name, value in row.items() if name != \"Resource\"}\n",
    "\n",
    "    return resources"
   ]
  },
  {
   "cell_type": "markdown",
   "id": "ee3e0d9c",
   "metadata": {},
   "source": [
    "## Upload Countries"
   ]
  },
  {
   "cell_type": "code",
   "execution_count": null,
   "id": "71b57a3f",
   "metadata": {},
   "outputs": [],
   "source": [
    "countryList = load_countries()"
   ]
  },
  {
   "cell_type": "code",
   "execution_count": null,
   "id": "19100c90",
   "metadata": {},
   "outputs": [],
   "source": [
    "resourceList = load_resources()"
   ]
  },
  {
   "cell_type": "markdown",
   "id": "58c25f3e",
   "metadata": {},
   "source": [
    "### Set to Pandas Dataframe"
   ]
  },
  {
   "cell_type": "code",
   "execution_count": null,
   "id": "bb1a9a26",
   "metadata": {},
   "outputs": [],
   "source": [
    "country_df = pd.DataFrame(countryList).transpose()"
   ]
  },
  {
   "cell_type": "code",
   "execution_count": null,
   "id": "e6e2b163",
   "metadata": {},
   "outputs": [],
   "source": [
    "root_country_df = country_df"
   ]
  },
  {
   "cell_type": "code",
   "execution_count": null,
   "id": "e0bccdd6",
   "metadata": {},
   "outputs": [],
   "source": [
    "resource_df = pd.DataFrame(resourceList).transpose()"
   ]
  },
  {
   "cell_type": "code",
   "execution_count": null,
   "id": "1bcaeb64",
   "metadata": {},
   "outputs": [],
   "source": [
    "COUNTRY_NAMES = country_df.index.to_list()"
   ]
  },
  {
   "cell_type": "code",
   "execution_count": null,
   "id": "bfbd6e3a",
   "metadata": {},
   "outputs": [],
   "source": [
    "COUNTRY_NAMES"
   ]
  },
  {
   "cell_type": "markdown",
   "id": "08f017ff",
   "metadata": {},
   "source": [
    "# State Quality Function"
   ]
  },
  {
   "cell_type": "markdown",
   "id": "576de3cf",
   "metadata": {},
   "source": [
    "### Check Country List"
   ]
  },
  {
   "cell_type": "code",
   "execution_count": null,
   "id": "8efccdda",
   "metadata": {},
   "outputs": [],
   "source": [
    "for key in countryList:\n",
    "    print(key, '->', countryList[key])"
   ]
  },
  {
   "cell_type": "markdown",
   "id": "922d30ad",
   "metadata": {},
   "source": [
    "### Set Maslow Constants"
   ]
  },
  {
   "cell_type": "code",
   "execution_count": null,
   "id": "fa6cbae7",
   "metadata": {},
   "outputs": [],
   "source": [
    "#different resource levels\n",
    "levelOneResources = {'food': 1, 'water': 1}\n",
    "levelTwoResources = {'housing': 1, 'timber': 1, 'metallic alloy': 0.5, 'electronics': 3, 'potential fossil energy': 1} \n",
    "levelThreeResources = {'community buildings': 0.05, 'jobs': 1, 'high school education': 1, 'college education': 1, 'universities': 1, 'marriages': 1} \n",
    "levelFourResources = {'children': 2.5, 'renewable energy': 1}\n",
    "levelFiveResources = {'food waste': -1, 'water waste': -1, 'land waste': -1, 'timber waste': -1, 'nobel prizes': 0.02}\n",
    "\n",
    "#list of levels\n",
    "levList = [levelOneResources, levelTwoResources, levelThreeResources, levelFourResources, levelFiveResources]"
   ]
  },
  {
   "cell_type": "code",
   "execution_count": null,
   "id": "7d29ac49",
   "metadata": {},
   "outputs": [],
   "source": [
    "print(levList)"
   ]
  },
  {
   "cell_type": "markdown",
   "id": "097e04dd",
   "metadata": {},
   "source": [
    "### Level Function"
   ]
  },
  {
   "cell_type": "code",
   "execution_count": null,
   "id": "59c85652",
   "metadata": {},
   "outputs": [],
   "source": [
    "#pandas version\n",
    "def leveldf(df, country, level, resources):\n",
    "    \n",
    "    levelSat = True\n",
    "    mult = []\n",
    "    average = 0\n",
    "\n",
    "    for key, value in levList[level-1].items():\n",
    "        countryVal = df.loc[country, key]\n",
    "        mult.append(countryVal/value)\n",
    "        if countryVal < value:\n",
    "            levelSat = False\n",
    "    \n",
    "    average = stats.mean(mult)\n",
    "    \n",
    "    if not levelSat:\n",
    "        average = average/4\n",
    "        \n",
    "    return average"
   ]
  },
  {
   "cell_type": "code",
   "execution_count": null,
   "id": "578701e9",
   "metadata": {},
   "outputs": [],
   "source": [
    "num = leveldf(country_df, 'Atlantis', 1, levList)\n",
    "num"
   ]
  },
  {
   "cell_type": "markdown",
   "id": "e4351674",
   "metadata": {},
   "source": [
    "## Maslow Function"
   ]
  },
  {
   "cell_type": "code",
   "execution_count": null,
   "id": "37e3e768",
   "metadata": {},
   "outputs": [],
   "source": [
    "def maslow(df, country, level):\n",
    "    \n",
    "    maslowList = []\n",
    "    \n",
    "    ## normalize\n",
    "    norm_df = df.copy()\n",
    "    \n",
    "    for row in range(len(norm_df)):\n",
    "        \n",
    "        values = norm_df.iloc[row]\n",
    "        popVal = values[0]\n",
    "        \n",
    "        for vals in range(1, len(values)):\n",
    "            values[vals] = values[vals]/popVal\n",
    "    \n",
    "    # maslow function\n",
    "    for num in range(1, level+1):\n",
    "        levValue = leveldf(norm_df, country, num, levList)\n",
    "        maslowList.append(levValue)\n",
    "            \n",
    "    return maslowList"
   ]
  },
  {
   "cell_type": "code",
   "execution_count": null,
   "id": "42dc66cf",
   "metadata": {},
   "outputs": [],
   "source": [
    "maslowL = maslow(country_df, 'The Vale', 5)"
   ]
  },
  {
   "cell_type": "code",
   "execution_count": null,
   "id": "2b3506cf",
   "metadata": {},
   "outputs": [],
   "source": [
    "print(maslowL)"
   ]
  },
  {
   "cell_type": "code",
   "execution_count": null,
   "id": "2dee73ec",
   "metadata": {},
   "outputs": [],
   "source": [
    "def maslowHeuristicVal(lst):\n",
    "    return stats.mean(maslowL)"
   ]
  },
  {
   "cell_type": "code",
   "execution_count": null,
   "id": "3c9f57b2",
   "metadata": {},
   "outputs": [],
   "source": [
    "masVal = maslowHeuristicVal(maslowL)"
   ]
  },
  {
   "cell_type": "code",
   "execution_count": null,
   "id": "ec848a1c",
   "metadata": {},
   "outputs": [],
   "source": [
    "print(masVal)"
   ]
  },
  {
   "cell_type": "markdown",
   "id": "b920fb72",
   "metadata": {},
   "source": [
    "# Transform Templates"
   ]
  },
  {
   "cell_type": "code",
   "execution_count": null,
   "id": "8d1c6d71",
   "metadata": {},
   "outputs": [],
   "source": [
    "HOUSING = ['HOUSING', {'land': 1, 'population': 5, 'water': 5, 'metallic element': 1, 'timber': 5, 'metallic alloy': 3, 'potential fossil usable': 5}, {'housing': 1, 'housing waste': 1, 'timber waste': 1, 'population': 5, 'water': 4}]\n",
    "ALLOYS = ['ALLOYS', {'population': 1, 'metallic element': 2, 'water': 3, 'potential fossil usable': 3}, {'population': 1, 'metallic alloy': 1, 'metallicAlloy waste': 1, 'water': 2}]\n",
    "ELECTRONICS = ['ELECTRONICS', {'population': 1, 'metallic element': 3, 'metallic alloy': 2, 'water': 3, 'potential fossil usable': 3}, {'population': 1, 'electronics': 2, 'electronics waste': 1, 'water': 2}]\n",
    "FARM = ['FARM', {'population': 1, 'land' : 1, 'water': 3}, {'food': 5, 'population': 1}]\n",
    "LOGGING = ['LOGGING', {'population': 3, 'potential fossil usable': 3}, {'population': 3, 'timber': 5}]\n",
    "PURIFY_WATER = ['PURIFY_WATER', {'population': 3, 'potential fossil usable': 3}, {'population': 3, 'water': 5}]\n",
    "FOSSIL_ENERGY = ['FOSSIL_ENERGY', {'population': 5, 'potential fossil energy': 2}, {'population': 5, 'potential fossil usable': 1, 'potential fossil energy waste': 1}]\n",
    "RENEWABLE_ENERGY = ['RENEWABLE_ENERGY', {'population': 5, 'potential fossil usable': 3}, {'population': 5, 'renewable energy': 1, 'renewable energy waste': 1}]\n",
    "COMMUNITY_BUILDING = ['COMMUNITY_BUILDING', {'land': 1, 'population': 10, 'water': 5, 'metallic element': 3, 'timber': 8, 'metallic alloy': 5, 'potential fossil usable': 5}, {'community buildings': 1, 'housing waste': 1, 'timber waste': 1, 'metallicAlloy waste': 1, 'population': 10, 'water': 4}]\n",
    "UNIVERSITY = ['UNIVERSITY', {'land': 1, 'population': 50, 'water': 5, 'metallic element': 5, 'timber': 10, 'metallic alloy': 5, 'potential fossil usable': 5}, {'universities': 1, 'population': 50, 'water': 3, 'timber waste': 1, 'metallicAlloy waste': 1}]\n",
    "JOB_HS = ['JOB_HS', {'population': 25, 'high school education': 1}, {'population': 25, 'jobs': 1}]\n",
    "JOB_C = ['JOB_C', {'population': 50, 'college education': 1}, {'population': 50, 'jobs': 1}]\n",
    "HIGHSCHOOL_ED = ['HIGHSCHOOL_ED', {'population': 15, 'housing': 1, 'children': 1}, {'population': 16, 'housing': 1, 'high school education': 1}]\n",
    "COLLEGE_ED = ['COLLEGE_ED', {'population': 50, 'housing': 1, 'universities': 1, 'high school education': 1}, {'population': 50, 'housing': 1, 'universities': 1, 'college education': 1}]\n",
    "MARRIAGE = ['MARRIAGE', {'population': 2, 'housing': 1}, {'population': 2, 'housing': 1, 'marriages': 1}]\n",
    "CHILDREN = ['CHILDREN', {'marriages': 1, 'housing': 1}, {'marriages': 1, 'housing': 1, 'children': 2}]\n",
    "NOBEL_PRIZE = ['NOBEL_PRIZE', {'population': 1, 'universities': 10, 'college education': 50, 'potential fossil usable': 10}, {'population': 1, 'universities': 10, 'college education': 50, 'nobel prizes': 1}]\n",
    "\n",
    "ALL_TEMPLATES_TRANSFORM = [HOUSING, ALLOYS, ELECTRONICS, FARM, LOGGING, PURIFY_WATER, FOSSIL_ENERGY, \n",
    "                          RENEWABLE_ENERGY, COMMUNITY_BUILDING, UNIVERSITY, JOB_HS, JOB_C, HIGHSCHOOL_ED,\n",
    "                          COLLEGE_ED, MARRIAGE, CHILDREN, NOBEL_PRIZE]"
   ]
  },
  {
   "cell_type": "markdown",
   "id": "d166623f",
   "metadata": {},
   "source": [
    "# Transform Function"
   ]
  },
  {
   "cell_type": "code",
   "execution_count": null,
   "id": "c8146ade",
   "metadata": {},
   "outputs": [],
   "source": [
    "def transform(df, country, transform_template):\n",
    "    \n",
    "    allowed = True\n",
    "    \n",
    "    #check if transform is possible\n",
    "    for key in transform_template[1]:\n",
    "        val = transform_template[1][key]\n",
    "        if(df.loc[country, key] - val < 0):\n",
    "            allowed = False\n",
    "    \n",
    "    if(allowed):\n",
    "        #remove input resoures\n",
    "        for key in transform_template[1]:\n",
    "            val = transform_template[1][key]\n",
    "            df.loc[country, key] -= val\n",
    "\n",
    "        #add output resources\n",
    "        for key in transform_template[2]:\n",
    "            val = transform_template[2][key]\n",
    "            df.loc[country, key] += val\n",
    "    return allowed"
   ]
  },
  {
   "cell_type": "markdown",
   "id": "b22dd43c",
   "metadata": {},
   "source": [
    "# Transform Test Case"
   ]
  },
  {
   "cell_type": "code",
   "execution_count": null,
   "id": "0bfe252e",
   "metadata": {},
   "outputs": [],
   "source": [
    "country_df"
   ]
  },
  {
   "cell_type": "code",
   "execution_count": null,
   "id": "be453367",
   "metadata": {},
   "outputs": [],
   "source": [
    "transform(country_df, 'Atlantis', FARM)"
   ]
  },
  {
   "cell_type": "code",
   "execution_count": null,
   "id": "b8ddbbd6",
   "metadata": {},
   "outputs": [],
   "source": [
    "country_df"
   ]
  },
  {
   "cell_type": "code",
   "execution_count": null,
   "id": "4bf7d723",
   "metadata": {},
   "outputs": [],
   "source": [
    "transform(country_df, 'The Vale', FARM)\n",
    "transform(country_df, 'The Vale', FARM)\n",
    "transform(country_df, 'The Vale', FARM)\n",
    "transform(country_df, 'The Vale', FARM)\n",
    "transform(country_df, 'The Vale', FARM)\n",
    "transform(country_df, 'The Vale', FARM)"
   ]
  },
  {
   "cell_type": "code",
   "execution_count": null,
   "id": "d323a656",
   "metadata": {},
   "outputs": [],
   "source": [
    "country_df"
   ]
  },
  {
   "cell_type": "code",
   "execution_count": null,
   "id": "74fa2e6d",
   "metadata": {},
   "outputs": [],
   "source": [
    "transform(country_df, 'The Vale', FARM)"
   ]
  },
  {
   "cell_type": "code",
   "execution_count": null,
   "id": "b2d16f4d",
   "metadata": {},
   "outputs": [],
   "source": [
    "country_df"
   ]
  },
  {
   "cell_type": "markdown",
   "id": "2355193d",
   "metadata": {
    "pycharm": {
     "name": "#%% md\n"
    }
   },
   "source": [
    "# Transfer Function Definition"
   ]
  },
  {
   "cell_type": "code",
   "execution_count": null,
   "id": "28a5341f",
   "metadata": {
    "pycharm": {
     "name": "#%%\n"
    }
   },
   "outputs": [],
   "source": [
    "def transfer(df, country1, country2, transfer):\n",
    "\n",
    "    allowed = True\n",
    "\n",
    "    #check for validity\n",
    "    \n",
    "    if country1==country2:\n",
    "        allowed = False\n",
    "\n",
    "    for key in transfer:\n",
    "        val = transfer[key]\n",
    "        if (df.loc[country1,key] - val < 0):\n",
    "            allowed = False\n",
    "            \n",
    "    if(allowed):\n",
    "        #remove resource from country 1\n",
    "        for key in transfer:\n",
    "            val = transfer[key]\n",
    "            df.loc[country1,key] -= val\n",
    "\n",
    "        #add resource to country 2\n",
    "        for key in transfer:\n",
    "            val = transfer[key]\n",
    "            df.loc[country2,key] += val\n",
    "            \n",
    "    return allowed"
   ]
  },
  {
   "cell_type": "markdown",
   "id": "9eab5c5f",
   "metadata": {
    "pycharm": {
     "name": "#%% md\n"
    }
   },
   "source": [
    "# Transfer Templates"
   ]
  },
  {
   "cell_type": "code",
   "execution_count": null,
   "id": "89438129",
   "metadata": {
    "pycharm": {
     "name": "#%%\n"
    }
   },
   "outputs": [],
   "source": [
    "FOOD = {\"food\":5}\n",
    "WATER = {\"water\":5}\n",
    "TIMBER = {\"timber\":5}\n",
    "METALLIC_ELEMENT = {\"metallic element\":5}\n",
    "METALLIC_ALLOY = {\"metallic alloy\":5}\n",
    "ELECTRONICS_TRANSFER = {\"electronics\":5}\n",
    "POTENTIAL_FOSSIL_ENERGY = {\"potential fossil energy\":5}\n",
    "POTENTIAL_FOSSIL_USABLE = {\"potential fossil usable\":5}\n",
    "RENEWABLE_ENERGY_TRANSFER = {\"renewable energy\":5}\n",
    "\n",
    "ALL_TEMPLATES_TRANSFER = [FOOD,WATER,TIMBER,METALLIC_ELEMENT,METALLIC_ALLOY,ELECTRONICS_TRANSFER,\n",
    "                          POTENTIAL_FOSSIL_ENERGY,POTENTIAL_FOSSIL_USABLE,RENEWABLE_ENERGY_TRANSFER]"
   ]
  },
  {
   "cell_type": "markdown",
   "id": "9e4db668",
   "metadata": {},
   "source": [
    "## Transfer Function Test Case"
   ]
  },
  {
   "cell_type": "code",
   "execution_count": null,
   "id": "40002cca",
   "metadata": {},
   "outputs": [],
   "source": [
    "country_df"
   ]
  },
  {
   "cell_type": "code",
   "execution_count": null,
   "id": "6441e432",
   "metadata": {},
   "outputs": [],
   "source": [
    "transfer(country_df, 'Atlantis', 'The Vale', WATER)"
   ]
  },
  {
   "cell_type": "code",
   "execution_count": null,
   "id": "f237a21e",
   "metadata": {
    "scrolled": true
   },
   "outputs": [],
   "source": [
    "country_df"
   ]
  },
  {
   "cell_type": "code",
   "execution_count": null,
   "id": "ddd5ed0e",
   "metadata": {},
   "outputs": [],
   "source": [
    "transfer(country_df, 'The Vale', 'Atlantis', WATER)"
   ]
  },
  {
   "cell_type": "code",
   "execution_count": null,
   "id": "f8ca67cf",
   "metadata": {},
   "outputs": [],
   "source": [
    "transfer(country_df, 'The Vale', 'Atlantis', WATER)"
   ]
  },
  {
   "cell_type": "code",
   "execution_count": null,
   "id": "af64198b",
   "metadata": {
    "scrolled": true
   },
   "outputs": [],
   "source": [
    "country_df"
   ]
  },
  {
   "cell_type": "markdown",
   "id": "e420f27d",
   "metadata": {
    "pycharm": {
     "name": "#%% md\n"
    }
   },
   "source": [
    "# Trade Function Definition"
   ]
  },
  {
   "cell_type": "code",
   "execution_count": null,
   "id": "da4035e8",
   "metadata": {
    "pycharm": {
     "name": "#%%\n"
    }
   },
   "outputs": [],
   "source": [
    "def trade(df, country1, country2, transfer1, transfer2):\n",
    "    # A trade deal between two countries country1 and country2\n",
    "    # for which country uses transfer1 and country2 uses transfer2\n",
    "    if transfer1 == transfer2:\n",
    "        return False\n",
    "    if transfer(df, country1, country2, transfer1):\n",
    "        if not transfer(df, country2, country1, transfer2):\n",
    "            transfer(df, country2, country1, transfer1)\n",
    "            return False\n",
    "        else:\n",
    "            return True\n",
    "    else:\n",
    "        return False"
   ]
  },
  {
   "cell_type": "markdown",
   "id": "d084ca0a",
   "metadata": {},
   "source": [
    "## Trade Function Test Case"
   ]
  },
  {
   "cell_type": "code",
   "execution_count": null,
   "id": "209b3888",
   "metadata": {
    "scrolled": true
   },
   "outputs": [],
   "source": [
    "country_df"
   ]
  },
  {
   "cell_type": "code",
   "execution_count": null,
   "id": "b80266a5",
   "metadata": {},
   "outputs": [],
   "source": [
    "trade(country_df,'Atlantis','The Vale',FOOD, WATER)"
   ]
  },
  {
   "cell_type": "code",
   "execution_count": null,
   "id": "9cf4c664",
   "metadata": {},
   "outputs": [],
   "source": [
    "country_df"
   ]
  },
  {
   "cell_type": "code",
   "execution_count": null,
   "id": "56844c82",
   "metadata": {},
   "outputs": [],
   "source": [
    "trade(country_df,'Atlantis','The Vale', WATER, FOOD)"
   ]
  },
  {
   "cell_type": "code",
   "execution_count": null,
   "id": "34caede0",
   "metadata": {},
   "outputs": [],
   "source": [
    "country_df"
   ]
  },
  {
   "cell_type": "markdown",
   "id": "294c373e",
   "metadata": {},
   "source": [
    "# Node Definition"
   ]
  },
  {
   "cell_type": "code",
   "execution_count": null,
   "id": "55a2442c",
   "metadata": {},
   "outputs": [],
   "source": [
    "class Node:\n",
    "    def __init__(self, state_quality, exp_util, sched, countrydf):\n",
    "        self.state_quality = state_quality\n",
    "        self.exp_util = exp_util\n",
    "        self.sched = sched\n",
    "        self.countrydf = countrydf\n",
    "    def getSqual(self):\n",
    "        return self.squal\n",
    "    def getExutil(self):\n",
    "        return self.exutil\n",
    "    def getSched(self):\n",
    "        return self.sched\n",
    "    def getCountrydf(self):\n",
    "        return self.countrydf\n",
    "    def __lt__(self, other):\n",
    "        return self.exp_util < other.exp_util"
   ]
  },
  {
   "cell_type": "markdown",
   "id": "f2e8d21d",
   "metadata": {},
   "source": [
    "# Bounded Priority Queue Definition"
   ]
  },
  {
   "cell_type": "code",
   "execution_count": null,
   "id": "82c4fa10",
   "metadata": {},
   "outputs": [],
   "source": [
    "class BoundedPriorityQueue:\n",
    "    def __init__(self, bound=None):\n",
    "        self.bound = bound\n",
    "        self.queue = list()\n",
    "    def push(self, priority, item):\n",
    "        if len(self.queue) == self.bound:\n",
    "            pq.heappushpop(self.queue, (priority, item))\n",
    "        else:\n",
    "            pq.heappush(self.queue, (priority, item))\n",
    "    def pop(self):\n",
    "        return pq.heappop(self.queue)[-1]\n",
    "    def clear(self):\n",
    "        self.queue.clear()\n",
    "    def len(self):\n",
    "        return len(self.queue)"
   ]
  },
  {
   "cell_type": "markdown",
   "id": "e394ce79",
   "metadata": {},
   "source": [
    "## Generate Succcessors"
   ]
  },
  {
   "cell_type": "code",
   "execution_count": null,
   "id": "d77b49da",
   "metadata": {},
   "outputs": [],
   "source": [
    "def generate_successors(parentNode, my_country):\n",
    "    \n",
    "    successors = BoundedPriorityQueue()\n",
    "    prevSched = parentNode.getSched()\n",
    "    \n",
    "    for resource in ALL_TEMPLATES_TRANSFORM:\n",
    "        \n",
    "        new_df = parentNode.getCountrydf()\n",
    "        \n",
    "        if transform(new_df, my_country, resource):\n",
    "            state_qual = maslowHeuristicVal(maslow(new_df, my_country, 5))\n",
    "            new_state = Node(state_qual, 0, prevSched, new_df)\n",
    "            new_state.sched.append(\"TRANSFORM: \" + resource[0])\n",
    "            new_state.exp_util = expected_utility(new_state, my_country)\n",
    "            print(new_state.exp_util)\n",
    "            print(new_state)\n",
    "            successors.push(new_state.exp_util, new_state)\n",
    "            print(successors.len())\n",
    "\n",
    "\n",
    "    for resource_1 in ALL_TEMPLATES_TRANSFER:\n",
    "        for resource_2 in ALL_TEMPLATES_TRANSFER:\n",
    "            for other_country in COUNTRY_NAMES:\n",
    "                \n",
    "                new_df = parentNode.getCountrydf()\n",
    "                \n",
    "                if trade(new_df, my_country, other_country, resource_1, resource_2):\n",
    "                    state_qual = maslowHeuristicVal(maslow(new_df, my_country, 5))\n",
    "                    new_state = Node(state_qual, 0, prevSched, new_df)\n",
    "                    trade_name = \"TRADE: \" + my_country + \" GIVES \" + str(resource_1) + \", \" + other_country + \" GIVES \" + str(resource_2)\n",
    "                    new_state.sched.append(trade_name)\n",
    "                    new_state.exp_util = expected_utility(new_state, my_country)\n",
    "                    successors.push(new_state.exp_util, new_state)\n",
    "                    \n",
    "    return successors"
   ]
  },
  {
   "cell_type": "markdown",
   "id": "87e1f889",
   "metadata": {},
   "source": [
    "# Reward Functions"
   ]
  },
  {
   "cell_type": "code",
   "execution_count": null,
   "id": "190c5d04",
   "metadata": {},
   "outputs": [],
   "source": [
    "def undiscounted_reward(node, my_country):\n",
    "    root_node_score = maslowHeuristicVal(maslow(root_country_df, my_country, 5))\n",
    "    cur_node_score = maslowHeuristicVal(maslow(node.getCountrydf(), my_country, 5))\n",
    "    return cur_node_score - root_node_score"
   ]
  },
  {
   "cell_type": "code",
   "execution_count": null,
   "id": "3b967011",
   "metadata": {},
   "outputs": [],
   "source": [
    "GAMMA = 0.05\n",
    "def discounted_reward(node, my_country):\n",
    "    return (GAMMA ** len(node.getSched()))*undiscounted_reward(node, my_country)"
   ]
  },
  {
   "cell_type": "code",
   "execution_count": null,
   "id": "6b9a710c",
   "metadata": {},
   "outputs": [],
   "source": [
    "COST_FAILURE = -1\n",
    "PROB = 0.95\n",
    "def expected_utility(node, my_country):\n",
    "    success = PROB * discounted_reward(node, my_country)\n",
    "    fail = (1 - PROB) * COST_FAILURE\n",
    "    return success + fail"
   ]
  },
  {
   "cell_type": "markdown",
   "id": "0293de37",
   "metadata": {},
   "source": [
    "# Node Test Cases "
   ]
  },
  {
   "cell_type": "code",
   "execution_count": null,
   "id": "afd997ae",
   "metadata": {},
   "outputs": [],
   "source": [
    "country_df"
   ]
  },
  {
   "cell_type": "code",
<<<<<<< HEAD
   "execution_count": null,
=======
   "execution_count": 43,
>>>>>>> origin/main
   "id": "adc53e8a",
   "metadata": {},
   "outputs": [],
   "source": [
    "state_qual = 0\n",
    "exp_util = 0\n",
    "sched = ['TRANSFORM', 'TRADE', 'TRANSFER', 'TRANSFORM']\n",
    "test_node = Node(state_qual, exp_util, sched, country_df)"
   ]
  },
  {
   "cell_type": "code",
<<<<<<< HEAD
   "execution_count": null,
   "id": "ed116cf7",
   "metadata": {},
   "outputs": [],
=======
   "execution_count": 44,
   "id": "ed116cf7",
   "metadata": {},
   "outputs": [
    {
     "data": {
      "text/plain": [
       "-0.050000000000000044"
      ]
     },
     "execution_count": 44,
     "metadata": {},
     "output_type": "execute_result"
    }
   ],
>>>>>>> origin/main
   "source": [
    "expected_utility(test_node, 'Atlantis')"
   ]
  },
  {
   "cell_type": "code",
<<<<<<< HEAD
   "execution_count": null,
   "id": "38f49282",
   "metadata": {},
   "outputs": [],
=======
   "execution_count": 45,
   "id": "38f49282",
   "metadata": {},
   "outputs": [
    {
     "name": "stdout",
     "output_type": "stream",
     "text": [
      "-0.050000000000000044\n",
      "<__main__.Node object at 0x1115e8700>\n",
      "1\n",
      "-0.050000000000000044\n",
      "<__main__.Node object at 0x111625ac0>\n",
      "2\n",
      "-0.050000000000000044\n",
      "<__main__.Node object at 0x1115bea00>\n",
      "3\n",
      "-0.050000000000000044\n",
      "<__main__.Node object at 0x1115be880>\n",
      "4\n",
      "-0.050000000000000044\n",
      "<__main__.Node object at 0x1115e80d0>\n",
      "5\n",
      "-0.050000000000000044\n",
      "<__main__.Node object at 0x111625640>\n",
      "6\n",
      "-0.050000000000000044\n",
      "<__main__.Node object at 0x1115e88e0>\n",
      "7\n",
      "-0.050000000000000044\n",
      "<__main__.Node object at 0x111619250>\n",
      "8\n",
      "-0.050000000000000044\n",
      "<__main__.Node object at 0x1115e8070>\n",
      "9\n",
      "-0.050000000000000044\n",
      "<__main__.Node object at 0x111625550>\n",
      "10\n"
     ]
    }
   ],
>>>>>>> origin/main
   "source": [
    "successors = generate_successors(test_node, 'Atlantis')"
   ]
  },
  {
   "cell_type": "code",
<<<<<<< HEAD
   "execution_count": null,
   "id": "51c267e1",
   "metadata": {},
   "outputs": [],
=======
   "execution_count": 46,
   "id": "51c267e1",
   "metadata": {},
   "outputs": [
    {
     "name": "stdout",
     "output_type": "stream",
     "text": [
      "10\n"
     ]
    }
   ],
>>>>>>> origin/main
   "source": [
    "print(successors.len())\n",
    "suc1 = successors.pop()"
   ]
  },
  {
   "cell_type": "code",
<<<<<<< HEAD
   "execution_count": null,
   "id": "d0f6e00c",
   "metadata": {},
   "outputs": [],
=======
   "execution_count": 47,
   "id": "d0f6e00c",
   "metadata": {},
   "outputs": [
    {
     "name": "stdout",
     "output_type": "stream",
     "text": [
      "2\n",
      "<__main__.Node object at 0x1115c9280>\n"
     ]
    }
   ],
>>>>>>> origin/main
   "source": [
    "yes = BoundedPriorityQueue()\n",
    "yes.push(1, test_node)\n",
    "yes.push(1, test_node)\n",
    "print(yes.len())\n",
    "print(yes.pop())"
   ]
  },
  {
   "cell_type": "code",
<<<<<<< HEAD
   "execution_count": null,
   "id": "8b6175c0",
   "metadata": {},
   "outputs": [],
=======
   "execution_count": 48,
   "id": "8b6175c0",
   "metadata": {},
   "outputs": [
    {
     "name": "stdout",
     "output_type": "stream",
     "text": [
      "['TRANSFORM', 'TRADE', 'TRANSFER', 'TRANSFORM', 'TRANSFORM: ALLOYS', 'TRANSFORM: ELECTRONICS', 'TRANSFORM: FARM', 'TRANSFORM: LOGGING', 'TRANSFORM: PURIFY_WATER', 'TRANSFORM: FOSSIL_ENERGY', 'TRANSFORM: RENEWABLE_ENERGY', 'TRANSFORM: HIGHSCHOOL_ED', 'TRANSFORM: MARRIAGE', 'TRANSFORM: CHILDREN']\n"
     ]
    }
   ],
>>>>>>> origin/main
   "source": [
    "print(suc1.getSched())"
   ]
  },
  {
   "cell_type": "code",
<<<<<<< HEAD
   "execution_count": null,
   "id": "a8da302c",
=======
   "execution_count": 49,
   "id": "d737858e",
   "metadata": {},
   "outputs": [
    {
     "name": "stdout",
     "output_type": "stream",
     "text": [
      "-0.050000000000000044\n",
      "<__main__.Node object at 0x111625460>\n",
      "1\n",
      "-0.050000000000000044\n",
      "<__main__.Node object at 0x11161dbb0>\n",
      "2\n",
      "-0.050000000000000044\n",
      "<__main__.Node object at 0x11161d400>\n",
      "3\n",
      "-0.050000000000000044\n",
      "<__main__.Node object at 0x1115bee80>\n",
      "4\n",
      "-0.050000000000000044\n",
      "<__main__.Node object at 0x1116198e0>\n",
      "5\n"
     ]
    }
   ],
   "source": [
    "successors2 = generate_successors(suc1, 'Atlantis')"
   ]
  },
  {
   "cell_type": "code",
   "execution_count": 50,
   "id": "db5f9bab",
   "metadata": {},
   "outputs": [
    {
     "name": "stdout",
     "output_type": "stream",
     "text": [
      "['TRANSFORM', 'TRADE', 'TRANSFER', 'TRANSFORM', 'TRANSFORM: ALLOYS', 'TRANSFORM: ELECTRONICS', 'TRANSFORM: FARM', 'TRANSFORM: LOGGING', 'TRANSFORM: PURIFY_WATER', 'TRANSFORM: FOSSIL_ENERGY', 'TRANSFORM: RENEWABLE_ENERGY', 'TRANSFORM: HIGHSCHOOL_ED', 'TRANSFORM: MARRIAGE', 'TRANSFORM: CHILDREN', 'TRANSFORM: FOSSIL_ENERGY', 'TRANSFORM: RENEWABLE_ENERGY', 'TRANSFORM: HIGHSCHOOL_ED', 'TRANSFORM: MARRIAGE', 'TRANSFORM: CHILDREN']\n"
     ]
    }
   ],
   "source": [
    "print(successors2.pop().getSched())"
   ]
  },
  {
   "cell_type": "code",
   "execution_count": 51,
   "id": "d3f05a68",
   "metadata": {},
   "outputs": [
    {
     "ename": "AttributeError",
     "evalue": "'Node' object has no attribute 'exutil'",
     "output_type": "error",
     "traceback": [
      "\u001b[0;31m---------------------------------------------------------------------------\u001b[0m",
      "\u001b[0;31mAttributeError\u001b[0m                            Traceback (most recent call last)",
      "\u001b[0;32m/var/folders/j1/sgjhsd9x307fyzvp3l0dt7zc0000gn/T/ipykernel_24327/4292760259.py\u001b[0m in \u001b[0;36m<module>\u001b[0;34m\u001b[0m\n\u001b[0;32m----> 1\u001b[0;31m \u001b[0msuccessors2\u001b[0m\u001b[0;34m.\u001b[0m\u001b[0mpop\u001b[0m\u001b[0;34m(\u001b[0m\u001b[0;34m)\u001b[0m\u001b[0;34m.\u001b[0m\u001b[0mgetExutil\u001b[0m\u001b[0;34m(\u001b[0m\u001b[0;34m)\u001b[0m\u001b[0;34m\u001b[0m\u001b[0;34m\u001b[0m\u001b[0m\n\u001b[0m",
      "\u001b[0;32m/var/folders/j1/sgjhsd9x307fyzvp3l0dt7zc0000gn/T/ipykernel_24327/2578144653.py\u001b[0m in \u001b[0;36mgetExutil\u001b[0;34m(self)\u001b[0m\n\u001b[1;32m      8\u001b[0m         \u001b[0;32mreturn\u001b[0m \u001b[0mself\u001b[0m\u001b[0;34m.\u001b[0m\u001b[0msqual\u001b[0m\u001b[0;34m\u001b[0m\u001b[0;34m\u001b[0m\u001b[0m\n\u001b[1;32m      9\u001b[0m     \u001b[0;32mdef\u001b[0m \u001b[0mgetExutil\u001b[0m\u001b[0;34m(\u001b[0m\u001b[0mself\u001b[0m\u001b[0;34m)\u001b[0m\u001b[0;34m:\u001b[0m\u001b[0;34m\u001b[0m\u001b[0;34m\u001b[0m\u001b[0m\n\u001b[0;32m---> 10\u001b[0;31m         \u001b[0;32mreturn\u001b[0m \u001b[0mself\u001b[0m\u001b[0;34m.\u001b[0m\u001b[0mexutil\u001b[0m\u001b[0;34m\u001b[0m\u001b[0;34m\u001b[0m\u001b[0m\n\u001b[0m\u001b[1;32m     11\u001b[0m     \u001b[0;32mdef\u001b[0m \u001b[0mgetSched\u001b[0m\u001b[0;34m(\u001b[0m\u001b[0mself\u001b[0m\u001b[0;34m)\u001b[0m\u001b[0;34m:\u001b[0m\u001b[0;34m\u001b[0m\u001b[0;34m\u001b[0m\u001b[0m\n\u001b[1;32m     12\u001b[0m         \u001b[0;32mreturn\u001b[0m \u001b[0mself\u001b[0m\u001b[0;34m.\u001b[0m\u001b[0msched\u001b[0m\u001b[0;34m\u001b[0m\u001b[0;34m\u001b[0m\u001b[0m\n",
      "\u001b[0;31mAttributeError\u001b[0m: 'Node' object has no attribute 'exutil'"
     ]
    }
   ],
   "source": [
    "successors2.pop().getExutil()"
   ]
  },
  {
   "cell_type": "code",
   "execution_count": null,
   "id": "e6d31d13",
>>>>>>> origin/main
   "metadata": {},
   "outputs": [],
   "source": []
  }
 ],
 "metadata": {
  "kernelspec": {
   "display_name": "Python 3 (ipykernel)",
   "language": "python",
   "name": "python3"
  },
  "language_info": {
   "codemirror_mode": {
    "name": "ipython",
    "version": 3
   },
   "file_extension": ".py",
   "mimetype": "text/x-python",
   "name": "python",
   "nbconvert_exporter": "python",
   "pygments_lexer": "ipython3",
   "version": "3.8.11"
  }
 },
 "nbformat": 4,
 "nbformat_minor": 5
}
