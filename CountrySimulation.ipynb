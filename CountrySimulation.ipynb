{
 "cells": [
  {
   "cell_type": "markdown",
   "id": "2b72565f",
   "metadata": {},
   "source": [
    "## Handle Imports"
   ]
  },
  {
   "cell_type": "code",
   "execution_count": 1,
   "id": "2f3a1795",
   "metadata": {},
   "outputs": [],
   "source": [
    "import numpy as np\n",
    "import pandas as pd\n",
    "import csv\n",
    "import statistics as stats"
   ]
  },
  {
   "cell_type": "markdown",
   "id": "01965101",
   "metadata": {},
   "source": [
    "# Upload methods"
   ]
  },
  {
   "cell_type": "markdown",
   "id": "60ca0d91",
   "metadata": {},
   "source": [
    "### Load Countries"
   ]
  },
  {
   "cell_type": "code",
   "execution_count": 2,
   "id": "d76f8ebc",
   "metadata": {},
   "outputs": [],
   "source": [
    "def load_countries() -> dict:\n",
    "    countries = {}\n",
    "\n",
    "    with open(\"countries.csv\") as file:\n",
    "        reader = csv.DictReader(file)\n",
    "        for row in reader:\n",
    "            key = row[\"Country\"]\n",
    "            countries[key] = {name: float(value) for name, value in row.items() if name != \"Country\"}\n",
    "\n",
    "    return countries"
   ]
  },
  {
   "cell_type": "markdown",
   "id": "11e0f18d",
   "metadata": {},
   "source": [
    "### Load Resources"
   ]
  },
  {
   "cell_type": "code",
   "execution_count": 3,
   "id": "d6632bad",
   "metadata": {},
   "outputs": [],
   "source": [
    "def load_resources() -> dict:\n",
    "    resources = {}\n",
    "\n",
    "    with open(\"resources.csv\") as file:\n",
    "        reader = csv.DictReader(file)\n",
    "        for row in reader:\n",
    "            key = row[\"Resource\"]\n",
    "            resources[key] = {name: float(value) if name == \"Weight\" else value for name, value in row.items() if name != \"Resource\"}\n",
    "\n",
    "    return resources"
   ]
  },
  {
   "cell_type": "markdown",
   "id": "ee3e0d9c",
   "metadata": {},
   "source": [
    "## Upload Countries"
   ]
  },
  {
   "cell_type": "code",
   "execution_count": 4,
   "id": "71b57a3f",
   "metadata": {},
   "outputs": [],
   "source": [
    "countryList = load_countries()"
   ]
  },
  {
   "cell_type": "code",
   "execution_count": 5,
   "id": "19100c90",
   "metadata": {},
   "outputs": [],
   "source": [
    "resourceList = load_resources()"
   ]
  },
  {
   "cell_type": "code",
   "execution_count": 6,
   "id": "6e53969a",
   "metadata": {},
   "outputs": [
    {
     "name": "stdout",
     "output_type": "stream",
     "text": [
      "{'Atlantis': {'population': 20.0, 'food': 12.0, 'water': 10.0, 'land': 20.0, 'timber': 10.0, 'housing': 5.0, 'metallic alloy': 9.0, 'electronics': 40.0, 'potential fossil energy': 1.0, 'potential fossil usable': 24.0, 'community buildings': 20.0, 'jobs': 10.0, 'high school education': 2.0, 'college education': 12.0, 'universities': 20.0, 'nobel prizes': 10.0, 'marriages': 2.0, 'children': 10.0, 'renewable energy': 3.0, 'food waste': 20.0, 'water waste': 8.0, 'land waste': 10.0, 'timber waste': 4.0, 'housing waste': 3.0, 'metallicAlloy waste': 12.0, 'electronics waste': 14.0, 'potential fossil energy waste': 10.0, 'renewable energy waste': 10.0}, 'Dinotopoia': {'population': 15.0, 'food': 0.0, 'water': 2.0, 'land': 60.0, 'timber': 0.0, 'housing': 0.0, 'metallic alloy': 10.0, 'electronics': 4.0, 'potential fossil energy': 2.0, 'potential fossil usable': 56.0, 'community buildings': 30.0, 'jobs': 2.0, 'high school education': 4.0, 'college education': 2.0, 'universities': 30.0, 'nobel prizes': 20.0, 'marriages': 3.0, 'children': 20.0, 'renewable energy': 2.0, 'food waste': 10.0, 'water waste': 2.0, 'land waste': 0.0, 'timber waste': 5.0, 'housing waste': 9.0, 'metallicAlloy waste': 3.0, 'electronics waste': 23.0, 'potential fossil energy waste': 23.0, 'renewable energy waste': 3.0}, 'Erewhon': {'population': 21.0, 'food': 2.0, 'water': 3.0, 'land': 40.0, 'timber': 0.0, 'housing': 30.0, 'metallic alloy': 26.0, 'electronics': 2.0, 'potential fossil energy': 0.0, 'potential fossil usable': 43.0, 'community buildings': 10.0, 'jobs': 3.0, 'high school education': 3.0, 'college education': 4.0, 'universities': 10.0, 'nobel prizes': 30.0, 'marriages': 20.0, 'children': 30.0, 'renewable energy': 10.0, 'food waste': 2.0, 'water waste': 1.0, 'land waste': 0.0, 'timber waste': 6.0, 'housing waste': 1.0, 'metallicAlloy waste': 9.0, 'electronics waste': 34.0, 'potential fossil energy waste': 33.0, 'renewable energy waste': 2.0}, \"King's Landing\": {'population': 80.0, 'food': 3.0, 'water': 4.0, 'land': 30.0, 'timber': 0.0, 'housing': 15.0, 'metallic alloy': 35.0, 'electronics': 3.0, 'potential fossil energy': 0.0, 'potential fossil usable': 23.0, 'community buildings': 20.0, 'jobs': 4.0, 'high school education': 8.0, 'college education': 3.0, 'universities': 20.0, 'nobel prizes': 10.0, 'marriages': 10.0, 'children': 10.0, 'renewable energy': 3.0, 'food waste': 3.0, 'water waste': 9.0, 'land waste': 3.0, 'timber waste': 1.0, 'housing waste': 0.0, 'metallicAlloy waste': 8.0, 'electronics waste': 52.0, 'potential fossil energy waste': 4.0, 'renewable energy waste': 3.0}, 'The Vale': {'population': 43.0, 'food': 1.0, 'water': 5.0, 'land': 10.0, 'timber': 0.0, 'housing': 12.0, 'metallic alloy': 30.0, 'electronics': 4.0, 'potential fossil energy': 0.0, 'potential fossil usable': 10.0, 'community buildings': 30.0, 'jobs': 20.0, 'high school education': 10.0, 'college education': 9.0, 'universities': 30.0, 'nobel prizes': 90.0, 'marriages': 40.0, 'children': 100.0, 'renewable energy': 2.0, 'food waste': 4.0, 'water waste': 0.0, 'land waste': 2.0, 'timber waste': 2.0, 'housing waste': 24.0, 'metallicAlloy waste': 1.0, 'electronics waste': 10.0, 'potential fossil energy waste': 1.0, 'renewable energy waste': 1.0}}\n"
     ]
    }
   ],
   "source": [
    "print(countryList)"
   ]
  },
  {
   "cell_type": "code",
   "execution_count": 7,
   "id": "bfec941a",
   "metadata": {},
   "outputs": [
    {
     "name": "stdout",
     "output_type": "stream",
     "text": [
      "{'R1': {'Weight': 0.0, 'Notes': 'analog to population'}, 'R2': {'Weight': 0.0, 'Notes': 'analog to metalic elements'}, 'R3': {'Weight': 0.0, 'Notes': 'analog to timber'}, 'R4': {'Weight': 0.2, 'Notes': 'analog to metallic alloys'}, 'R5': {'Weight': 0.5, 'Notes': 'analog to electronics'}, 'R6': {'Weight': 0.8, 'Notes': 'analog to housing'}, 'R7': {'Weight': -0.5, 'Notes': 'waste'}, 'R8': {'Weight': -0.8, 'Notes': 'waste'}, 'R9': {'Weight': -0.4, 'Notes': 'waste'}, 'R10': {'Weight': -0.2, 'Notes': 'waste'}}\n"
     ]
    }
   ],
   "source": [
    "print(resourceList)"
   ]
  },
  {
   "cell_type": "markdown",
   "id": "58c25f3e",
   "metadata": {},
   "source": [
    "### Set to Pandas Dataframe"
   ]
  },
  {
   "cell_type": "code",
   "execution_count": 8,
   "id": "bb1a9a26",
   "metadata": {},
   "outputs": [],
   "source": [
    "countrydf = pd.DataFrame(countryList).transpose()"
   ]
  },
  {
   "cell_type": "code",
   "execution_count": 9,
   "id": "e0bccdd6",
   "metadata": {},
   "outputs": [],
   "source": [
    "resourcedf = pd.DataFrame(resourceList).transpose()"
   ]
  },
  {
   "cell_type": "code",
   "execution_count": 10,
   "id": "ba4efc97",
   "metadata": {},
   "outputs": [
    {
     "data": {
      "text/html": [
       "<div>\n",
       "<style scoped>\n",
       "    .dataframe tbody tr th:only-of-type {\n",
       "        vertical-align: middle;\n",
       "    }\n",
       "\n",
       "    .dataframe tbody tr th {\n",
       "        vertical-align: top;\n",
       "    }\n",
       "\n",
       "    .dataframe thead th {\n",
       "        text-align: right;\n",
       "    }\n",
       "</style>\n",
       "<table border=\"1\" class=\"dataframe\">\n",
       "  <thead>\n",
       "    <tr style=\"text-align: right;\">\n",
       "      <th></th>\n",
       "      <th>population</th>\n",
       "      <th>food</th>\n",
       "      <th>water</th>\n",
       "      <th>land</th>\n",
       "      <th>timber</th>\n",
       "      <th>housing</th>\n",
       "      <th>metallic alloy</th>\n",
       "      <th>electronics</th>\n",
       "      <th>potential fossil energy</th>\n",
       "      <th>potential fossil usable</th>\n",
       "      <th>...</th>\n",
       "      <th>renewable energy</th>\n",
       "      <th>food waste</th>\n",
       "      <th>water waste</th>\n",
       "      <th>land waste</th>\n",
       "      <th>timber waste</th>\n",
       "      <th>housing waste</th>\n",
       "      <th>metallicAlloy waste</th>\n",
       "      <th>electronics waste</th>\n",
       "      <th>potential fossil energy waste</th>\n",
       "      <th>renewable energy waste</th>\n",
       "    </tr>\n",
       "  </thead>\n",
       "  <tbody>\n",
       "    <tr>\n",
       "      <th>Atlantis</th>\n",
       "      <td>20.0</td>\n",
       "      <td>12.0</td>\n",
       "      <td>10.0</td>\n",
       "      <td>20.0</td>\n",
       "      <td>10.0</td>\n",
       "      <td>5.0</td>\n",
       "      <td>9.0</td>\n",
       "      <td>40.0</td>\n",
       "      <td>1.0</td>\n",
       "      <td>24.0</td>\n",
       "      <td>...</td>\n",
       "      <td>3.0</td>\n",
       "      <td>20.0</td>\n",
       "      <td>8.0</td>\n",
       "      <td>10.0</td>\n",
       "      <td>4.0</td>\n",
       "      <td>3.0</td>\n",
       "      <td>12.0</td>\n",
       "      <td>14.0</td>\n",
       "      <td>10.0</td>\n",
       "      <td>10.0</td>\n",
       "    </tr>\n",
       "    <tr>\n",
       "      <th>Dinotopoia</th>\n",
       "      <td>15.0</td>\n",
       "      <td>0.0</td>\n",
       "      <td>2.0</td>\n",
       "      <td>60.0</td>\n",
       "      <td>0.0</td>\n",
       "      <td>0.0</td>\n",
       "      <td>10.0</td>\n",
       "      <td>4.0</td>\n",
       "      <td>2.0</td>\n",
       "      <td>56.0</td>\n",
       "      <td>...</td>\n",
       "      <td>2.0</td>\n",
       "      <td>10.0</td>\n",
       "      <td>2.0</td>\n",
       "      <td>0.0</td>\n",
       "      <td>5.0</td>\n",
       "      <td>9.0</td>\n",
       "      <td>3.0</td>\n",
       "      <td>23.0</td>\n",
       "      <td>23.0</td>\n",
       "      <td>3.0</td>\n",
       "    </tr>\n",
       "    <tr>\n",
       "      <th>Erewhon</th>\n",
       "      <td>21.0</td>\n",
       "      <td>2.0</td>\n",
       "      <td>3.0</td>\n",
       "      <td>40.0</td>\n",
       "      <td>0.0</td>\n",
       "      <td>30.0</td>\n",
       "      <td>26.0</td>\n",
       "      <td>2.0</td>\n",
       "      <td>0.0</td>\n",
       "      <td>43.0</td>\n",
       "      <td>...</td>\n",
       "      <td>10.0</td>\n",
       "      <td>2.0</td>\n",
       "      <td>1.0</td>\n",
       "      <td>0.0</td>\n",
       "      <td>6.0</td>\n",
       "      <td>1.0</td>\n",
       "      <td>9.0</td>\n",
       "      <td>34.0</td>\n",
       "      <td>33.0</td>\n",
       "      <td>2.0</td>\n",
       "    </tr>\n",
       "    <tr>\n",
       "      <th>King's Landing</th>\n",
       "      <td>80.0</td>\n",
       "      <td>3.0</td>\n",
       "      <td>4.0</td>\n",
       "      <td>30.0</td>\n",
       "      <td>0.0</td>\n",
       "      <td>15.0</td>\n",
       "      <td>35.0</td>\n",
       "      <td>3.0</td>\n",
       "      <td>0.0</td>\n",
       "      <td>23.0</td>\n",
       "      <td>...</td>\n",
       "      <td>3.0</td>\n",
       "      <td>3.0</td>\n",
       "      <td>9.0</td>\n",
       "      <td>3.0</td>\n",
       "      <td>1.0</td>\n",
       "      <td>0.0</td>\n",
       "      <td>8.0</td>\n",
       "      <td>52.0</td>\n",
       "      <td>4.0</td>\n",
       "      <td>3.0</td>\n",
       "    </tr>\n",
       "    <tr>\n",
       "      <th>The Vale</th>\n",
       "      <td>43.0</td>\n",
       "      <td>1.0</td>\n",
       "      <td>5.0</td>\n",
       "      <td>10.0</td>\n",
       "      <td>0.0</td>\n",
       "      <td>12.0</td>\n",
       "      <td>30.0</td>\n",
       "      <td>4.0</td>\n",
       "      <td>0.0</td>\n",
       "      <td>10.0</td>\n",
       "      <td>...</td>\n",
       "      <td>2.0</td>\n",
       "      <td>4.0</td>\n",
       "      <td>0.0</td>\n",
       "      <td>2.0</td>\n",
       "      <td>2.0</td>\n",
       "      <td>24.0</td>\n",
       "      <td>1.0</td>\n",
       "      <td>10.0</td>\n",
       "      <td>1.0</td>\n",
       "      <td>1.0</td>\n",
       "    </tr>\n",
       "  </tbody>\n",
       "</table>\n",
       "<p>5 rows × 28 columns</p>\n",
       "</div>"
      ],
      "text/plain": [
       "                population  food  water  land  timber  housing  \\\n",
       "Atlantis              20.0  12.0   10.0  20.0    10.0      5.0   \n",
       "Dinotopoia            15.0   0.0    2.0  60.0     0.0      0.0   \n",
       "Erewhon               21.0   2.0    3.0  40.0     0.0     30.0   \n",
       "King's Landing        80.0   3.0    4.0  30.0     0.0     15.0   \n",
       "The Vale              43.0   1.0    5.0  10.0     0.0     12.0   \n",
       "\n",
       "                metallic alloy  electronics  potential fossil energy  \\\n",
       "Atlantis                   9.0         40.0                      1.0   \n",
       "Dinotopoia                10.0          4.0                      2.0   \n",
       "Erewhon                   26.0          2.0                      0.0   \n",
       "King's Landing            35.0          3.0                      0.0   \n",
       "The Vale                  30.0          4.0                      0.0   \n",
       "\n",
       "                potential fossil usable  ...  renewable energy  food waste  \\\n",
       "Atlantis                           24.0  ...               3.0        20.0   \n",
       "Dinotopoia                         56.0  ...               2.0        10.0   \n",
       "Erewhon                            43.0  ...              10.0         2.0   \n",
       "King's Landing                     23.0  ...               3.0         3.0   \n",
       "The Vale                           10.0  ...               2.0         4.0   \n",
       "\n",
       "                water waste  land waste  timber waste  housing waste  \\\n",
       "Atlantis                8.0        10.0           4.0            3.0   \n",
       "Dinotopoia              2.0         0.0           5.0            9.0   \n",
       "Erewhon                 1.0         0.0           6.0            1.0   \n",
       "King's Landing          9.0         3.0           1.0            0.0   \n",
       "The Vale                0.0         2.0           2.0           24.0   \n",
       "\n",
       "                metallicAlloy waste  electronics waste  \\\n",
       "Atlantis                       12.0               14.0   \n",
       "Dinotopoia                      3.0               23.0   \n",
       "Erewhon                         9.0               34.0   \n",
       "King's Landing                  8.0               52.0   \n",
       "The Vale                        1.0               10.0   \n",
       "\n",
       "                potential fossil energy waste  renewable energy waste  \n",
       "Atlantis                                 10.0                    10.0  \n",
       "Dinotopoia                               23.0                     3.0  \n",
       "Erewhon                                  33.0                     2.0  \n",
       "King's Landing                            4.0                     3.0  \n",
       "The Vale                                  1.0                     1.0  \n",
       "\n",
       "[5 rows x 28 columns]"
      ]
     },
     "execution_count": 10,
     "metadata": {},
     "output_type": "execute_result"
    }
   ],
   "source": [
    "countrydf"
   ]
  },
  {
   "cell_type": "code",
   "execution_count": 11,
   "id": "f104ecc2",
   "metadata": {},
   "outputs": [
    {
     "data": {
      "text/html": [
       "<div>\n",
       "<style scoped>\n",
       "    .dataframe tbody tr th:only-of-type {\n",
       "        vertical-align: middle;\n",
       "    }\n",
       "\n",
       "    .dataframe tbody tr th {\n",
       "        vertical-align: top;\n",
       "    }\n",
       "\n",
       "    .dataframe thead th {\n",
       "        text-align: right;\n",
       "    }\n",
       "</style>\n",
       "<table border=\"1\" class=\"dataframe\">\n",
       "  <thead>\n",
       "    <tr style=\"text-align: right;\">\n",
       "      <th></th>\n",
       "      <th>Weight</th>\n",
       "      <th>Notes</th>\n",
       "    </tr>\n",
       "  </thead>\n",
       "  <tbody>\n",
       "    <tr>\n",
       "      <th>R1</th>\n",
       "      <td>0.0</td>\n",
       "      <td>analog to population</td>\n",
       "    </tr>\n",
       "    <tr>\n",
       "      <th>R2</th>\n",
       "      <td>0.0</td>\n",
       "      <td>analog to metalic elements</td>\n",
       "    </tr>\n",
       "    <tr>\n",
       "      <th>R3</th>\n",
       "      <td>0.0</td>\n",
       "      <td>analog to timber</td>\n",
       "    </tr>\n",
       "    <tr>\n",
       "      <th>R4</th>\n",
       "      <td>0.2</td>\n",
       "      <td>analog to metallic alloys</td>\n",
       "    </tr>\n",
       "    <tr>\n",
       "      <th>R5</th>\n",
       "      <td>0.5</td>\n",
       "      <td>analog to electronics</td>\n",
       "    </tr>\n",
       "    <tr>\n",
       "      <th>R6</th>\n",
       "      <td>0.8</td>\n",
       "      <td>analog to housing</td>\n",
       "    </tr>\n",
       "    <tr>\n",
       "      <th>R7</th>\n",
       "      <td>-0.5</td>\n",
       "      <td>waste</td>\n",
       "    </tr>\n",
       "    <tr>\n",
       "      <th>R8</th>\n",
       "      <td>-0.8</td>\n",
       "      <td>waste</td>\n",
       "    </tr>\n",
       "    <tr>\n",
       "      <th>R9</th>\n",
       "      <td>-0.4</td>\n",
       "      <td>waste</td>\n",
       "    </tr>\n",
       "    <tr>\n",
       "      <th>R10</th>\n",
       "      <td>-0.2</td>\n",
       "      <td>waste</td>\n",
       "    </tr>\n",
       "  </tbody>\n",
       "</table>\n",
       "</div>"
      ],
      "text/plain": [
       "    Weight                       Notes\n",
       "R1     0.0        analog to population\n",
       "R2     0.0  analog to metalic elements\n",
       "R3     0.0            analog to timber\n",
       "R4     0.2   analog to metallic alloys\n",
       "R5     0.5       analog to electronics\n",
       "R6     0.8           analog to housing\n",
       "R7    -0.5                       waste\n",
       "R8    -0.8                       waste\n",
       "R9    -0.4                       waste\n",
       "R10   -0.2                       waste"
      ]
     },
     "execution_count": 11,
     "metadata": {},
     "output_type": "execute_result"
    }
   ],
   "source": [
    "resourcedf"
   ]
  },
  {
   "cell_type": "markdown",
   "id": "15311eaf",
   "metadata": {},
   "source": [
    "# State Quality Evaluation"
   ]
  },
  {
   "cell_type": "markdown",
   "id": "fa83ff47",
   "metadata": {},
   "source": [
    "### Population Normalization"
   ]
  },
  {
   "cell_type": "code",
   "execution_count": 12,
   "id": "efafb30f",
   "metadata": {},
   "outputs": [],
   "source": [
    "def normalize_df(df):\n",
    "    \n",
    "    df.div(df.s(axis=1), axis=0)"
   ]
  },
  {
   "cell_type": "markdown",
   "id": "08f017ff",
   "metadata": {},
   "source": [
    "### Check Country List"
   ]
  },
  {
   "cell_type": "code",
   "execution_count": 13,
   "id": "8efccdda",
   "metadata": {},
   "outputs": [
    {
     "name": "stdout",
     "output_type": "stream",
     "text": [
      "Atlantis -> {'population': 20.0, 'food': 12.0, 'water': 10.0, 'land': 20.0, 'timber': 10.0, 'housing': 5.0, 'metallic alloy': 9.0, 'electronics': 40.0, 'potential fossil energy': 1.0, 'potential fossil usable': 24.0, 'community buildings': 20.0, 'jobs': 10.0, 'high school education': 2.0, 'college education': 12.0, 'universities': 20.0, 'nobel prizes': 10.0, 'marriages': 2.0, 'children': 10.0, 'renewable energy': 3.0, 'food waste': 20.0, 'water waste': 8.0, 'land waste': 10.0, 'timber waste': 4.0, 'housing waste': 3.0, 'metallicAlloy waste': 12.0, 'electronics waste': 14.0, 'potential fossil energy waste': 10.0, 'renewable energy waste': 10.0}\n",
      "Dinotopoia -> {'population': 15.0, 'food': 0.0, 'water': 2.0, 'land': 60.0, 'timber': 0.0, 'housing': 0.0, 'metallic alloy': 10.0, 'electronics': 4.0, 'potential fossil energy': 2.0, 'potential fossil usable': 56.0, 'community buildings': 30.0, 'jobs': 2.0, 'high school education': 4.0, 'college education': 2.0, 'universities': 30.0, 'nobel prizes': 20.0, 'marriages': 3.0, 'children': 20.0, 'renewable energy': 2.0, 'food waste': 10.0, 'water waste': 2.0, 'land waste': 0.0, 'timber waste': 5.0, 'housing waste': 9.0, 'metallicAlloy waste': 3.0, 'electronics waste': 23.0, 'potential fossil energy waste': 23.0, 'renewable energy waste': 3.0}\n",
      "Erewhon -> {'population': 21.0, 'food': 2.0, 'water': 3.0, 'land': 40.0, 'timber': 0.0, 'housing': 30.0, 'metallic alloy': 26.0, 'electronics': 2.0, 'potential fossil energy': 0.0, 'potential fossil usable': 43.0, 'community buildings': 10.0, 'jobs': 3.0, 'high school education': 3.0, 'college education': 4.0, 'universities': 10.0, 'nobel prizes': 30.0, 'marriages': 20.0, 'children': 30.0, 'renewable energy': 10.0, 'food waste': 2.0, 'water waste': 1.0, 'land waste': 0.0, 'timber waste': 6.0, 'housing waste': 1.0, 'metallicAlloy waste': 9.0, 'electronics waste': 34.0, 'potential fossil energy waste': 33.0, 'renewable energy waste': 2.0}\n",
      "King's Landing -> {'population': 80.0, 'food': 3.0, 'water': 4.0, 'land': 30.0, 'timber': 0.0, 'housing': 15.0, 'metallic alloy': 35.0, 'electronics': 3.0, 'potential fossil energy': 0.0, 'potential fossil usable': 23.0, 'community buildings': 20.0, 'jobs': 4.0, 'high school education': 8.0, 'college education': 3.0, 'universities': 20.0, 'nobel prizes': 10.0, 'marriages': 10.0, 'children': 10.0, 'renewable energy': 3.0, 'food waste': 3.0, 'water waste': 9.0, 'land waste': 3.0, 'timber waste': 1.0, 'housing waste': 0.0, 'metallicAlloy waste': 8.0, 'electronics waste': 52.0, 'potential fossil energy waste': 4.0, 'renewable energy waste': 3.0}\n",
      "The Vale -> {'population': 43.0, 'food': 1.0, 'water': 5.0, 'land': 10.0, 'timber': 0.0, 'housing': 12.0, 'metallic alloy': 30.0, 'electronics': 4.0, 'potential fossil energy': 0.0, 'potential fossil usable': 10.0, 'community buildings': 30.0, 'jobs': 20.0, 'high school education': 10.0, 'college education': 9.0, 'universities': 30.0, 'nobel prizes': 90.0, 'marriages': 40.0, 'children': 100.0, 'renewable energy': 2.0, 'food waste': 4.0, 'water waste': 0.0, 'land waste': 2.0, 'timber waste': 2.0, 'housing waste': 24.0, 'metallicAlloy waste': 1.0, 'electronics waste': 10.0, 'potential fossil energy waste': 1.0, 'renewable energy waste': 1.0}\n"
     ]
    }
   ],
   "source": [
    "for key in countryList:\n",
    "    print(key, '->', countryList[key])"
   ]
  },
  {
   "cell_type": "markdown",
   "id": "922d30ad",
   "metadata": {},
   "source": [
    "### Set Maslow Constants"
   ]
  },
  {
   "cell_type": "code",
   "execution_count": 14,
   "id": "fa6cbae7",
   "metadata": {},
   "outputs": [],
   "source": [
    "#different resource levels\n",
    "levelOneResources = {'food': 10, 'water': 20}\n",
    "levelTwoResources = {'housing': 20, 'timber': 5, 'metallic alloy': 20, 'electronics': 3, 'potential fossil energy': 30} \n",
    "levelThreeResources = {'community buildings': 20, 'jobs': 10, 'high school education': 2, 'college education': 10, 'universities': 10, 'marriages': 20, } \n",
    "levelFourResources = {'children': 35, 'renewable energy': 30}\n",
    "levelFiveResources = {'food waste': 2, 'water waste': 2, 'land waste': 1, 'timber waste': 2, 'nobel prizes': 20}\n",
    "\n",
    "#list of levels\n",
    "levList = [levelOneResources, levelTwoResources, levelThreeResources, levelFourResources, levelFiveResources]"
   ]
  },
  {
   "cell_type": "code",
   "execution_count": 15,
   "id": "7d29ac49",
   "metadata": {},
   "outputs": [
    {
     "name": "stdout",
     "output_type": "stream",
     "text": [
      "[{'food': 10, 'water': 20}, {'housing': 20, 'timber': 5, 'metallic alloy': 20, 'electronics': 3, 'potential fossil energy': 30}, {'community buildings': 20, 'jobs': 10, 'high school education': 2, 'college education': 10, 'universities': 10, 'marriages': 20}, {'children': 35, 'renewable energy': 30}, {'food waste': 2, 'water waste': 2, 'land waste': 1, 'timber waste': 2, 'nobel prizes': 20}]\n"
     ]
    }
   ],
   "source": [
    "print(levList)"
   ]
  },
  {
   "cell_type": "markdown",
   "id": "097e04dd",
   "metadata": {},
   "source": [
    "### Level Function"
   ]
  },
  {
   "cell_type": "code",
   "execution_count": 16,
   "id": "59c85652",
   "metadata": {},
   "outputs": [],
   "source": [
    "#pandas version\n",
    "def leveldf(df, country, level, resources):\n",
    "    \n",
    "    levelSat = True\n",
    "    mult = []\n",
    "    average = 0\n",
    "\n",
    "    for key, value in levList[level-1].items():\n",
    "        countryVal = df.loc[country, key]\n",
    "        mult.append(countryVal/value)\n",
    "        if countryVal < value:\n",
    "            levelSat = False\n",
    "    \n",
    "    average = stats.mean(mult)\n",
    "    \n",
    "    if not levelSat:\n",
    "        average = average/4\n",
    "        \n",
    "    return average"
   ]
  },
  {
   "cell_type": "code",
   "execution_count": 17,
   "id": "578701e9",
   "metadata": {},
   "outputs": [
    {
     "data": {
      "text/plain": [
       "0.2125"
      ]
     },
     "execution_count": 17,
     "metadata": {},
     "output_type": "execute_result"
    }
   ],
   "source": [
    "num = leveldf(countrydf, 'Atlantis', 1, levList)\n",
    "num"
   ]
  },
  {
   "cell_type": "code",
   "execution_count": 18,
   "id": "e6a060c9",
   "metadata": {},
   "outputs": [],
   "source": [
    "#dictionary version (doesn't work)\n",
    "def level(country, level):\n",
    "\n",
    "    levelSat = True\n",
    "    mult = []\n",
    "    average = 0\n",
    "    \n",
    "    #go through each resource of the country\n",
    "    for key, value in country:\n",
    "        if key in level.keys():\n",
    "            mult.append(value/level.keys()[0])\n",
    "            if value < level.keys()[0]:\n",
    "                levelSat = False\n",
    "    \n",
    "    average = mult.sum()/mult.len()\n",
    "    \n",
    "    if not levelSat:\n",
    "        average = average/4\n",
    "        \n",
    "    return average"
   ]
  },
  {
   "cell_type": "markdown",
   "id": "e4351674",
   "metadata": {},
   "source": [
    "## Maslow Function"
   ]
  },
  {
   "cell_type": "code",
   "execution_count": 19,
   "id": "37e3e768",
   "metadata": {},
   "outputs": [],
   "source": [
    "def maslow(df, country, level, resources):\n",
    "    \n",
    "    maslowList = []\n",
    "    \n",
    "    for num in range(1, level+1):\n",
    "        levValue = leveldf(countrydf, country, num, levList)\n",
    "        maslowList.append(levValue)\n",
    "            \n",
    "    return maslowList"
   ]
  },
  {
   "cell_type": "code",
   "execution_count": 20,
   "id": "42dc66cf",
   "metadata": {},
   "outputs": [],
   "source": [
    "maslowL = maslow(countrydf, 'The Vale', 5, levList)"
   ]
  },
  {
   "cell_type": "code",
   "execution_count": 21,
   "id": "2b3506cf",
   "metadata": {},
   "outputs": [
    {
     "name": "stdout",
     "output_type": "stream",
     "text": [
      "[0.04375, 0.17166666666666666, 0.6, 0.3654761904761905, 0.475]\n"
     ]
    }
   ],
   "source": [
    "print(maslowL)"
   ]
  },
  {
   "cell_type": "code",
   "execution_count": 22,
   "id": "2dee73ec",
   "metadata": {},
   "outputs": [],
   "source": [
    "def maslowHeuristicVal(lst):\n",
    "    return stats.mean(maslowL)"
   ]
  },
  {
   "cell_type": "code",
   "execution_count": 23,
   "id": "3c9f57b2",
   "metadata": {},
   "outputs": [],
   "source": [
    "masVal = maslowHeuristicVal(maslowL)"
   ]
  },
  {
   "cell_type": "code",
   "execution_count": 24,
   "id": "ec848a1c",
   "metadata": {},
   "outputs": [
    {
     "name": "stdout",
     "output_type": "stream",
     "text": [
      "0.33117857142857143\n"
     ]
    }
   ],
   "source": [
    "print(masVal)"
   ]
  },
  {
   "cell_type": "markdown",
   "id": "b920fb72",
   "metadata": {},
   "source": [
    "# Transform Constants"
   ]
  },
  {
   "cell_type": "code",
   "execution_count": 25,
   "id": "8d1c6d71",
   "metadata": {},
   "outputs": [],
   "source": [
    "FARM = [{'population': 1, 'land' : 1, 'water': 3}, {'food': 5, 'population': 1}]"
   ]
  },
  {
   "cell_type": "markdown",
   "id": "d166623f",
   "metadata": {},
   "source": [
    "# Transform Function"
   ]
  },
  {
   "cell_type": "code",
   "execution_count": 26,
   "id": "c8146ade",
   "metadata": {},
   "outputs": [],
   "source": [
    "def transform(df, country, transform):\n",
    "    \n",
    "    allowed = True\n",
    "    \n",
    "    #check if transform is possible\n",
    "    for key in transform[0]:\n",
    "        val = transform[0][key]\n",
    "        if(df.loc[country, key] - val < 0):\n",
    "            allowed = False\n",
    "    \n",
    "    if(allowed):\n",
    "        #remove input resoures\n",
    "        for key in transform[0]:\n",
    "            val = transform[0][key]\n",
    "            df.loc[country, key] -= val\n",
    "\n",
    "        #add output resources\n",
    "        for key in transform[1]:\n",
    "            val = transform[1][key]\n",
    "            df.loc[country, key] += val"
   ]
  },
  {
   "cell_type": "markdown",
   "id": "b22dd43c",
   "metadata": {},
   "source": [
    "# Transform Test Case"
   ]
  },
  {
   "cell_type": "code",
   "execution_count": 27,
   "id": "0bfe252e",
   "metadata": {},
   "outputs": [
    {
     "data": {
      "text/html": [
       "<div>\n",
       "<style scoped>\n",
       "    .dataframe tbody tr th:only-of-type {\n",
       "        vertical-align: middle;\n",
       "    }\n",
       "\n",
       "    .dataframe tbody tr th {\n",
       "        vertical-align: top;\n",
       "    }\n",
       "\n",
       "    .dataframe thead th {\n",
       "        text-align: right;\n",
       "    }\n",
       "</style>\n",
       "<table border=\"1\" class=\"dataframe\">\n",
       "  <thead>\n",
       "    <tr style=\"text-align: right;\">\n",
       "      <th></th>\n",
       "      <th>population</th>\n",
       "      <th>food</th>\n",
       "      <th>water</th>\n",
       "      <th>land</th>\n",
       "      <th>timber</th>\n",
       "      <th>housing</th>\n",
       "      <th>metallic alloy</th>\n",
       "      <th>electronics</th>\n",
       "      <th>potential fossil energy</th>\n",
       "      <th>potential fossil usable</th>\n",
       "      <th>...</th>\n",
       "      <th>renewable energy</th>\n",
       "      <th>food waste</th>\n",
       "      <th>water waste</th>\n",
       "      <th>land waste</th>\n",
       "      <th>timber waste</th>\n",
       "      <th>housing waste</th>\n",
       "      <th>metallicAlloy waste</th>\n",
       "      <th>electronics waste</th>\n",
       "      <th>potential fossil energy waste</th>\n",
       "      <th>renewable energy waste</th>\n",
       "    </tr>\n",
       "  </thead>\n",
       "  <tbody>\n",
       "    <tr>\n",
       "      <th>Atlantis</th>\n",
       "      <td>20.0</td>\n",
       "      <td>12.0</td>\n",
       "      <td>10.0</td>\n",
       "      <td>20.0</td>\n",
       "      <td>10.0</td>\n",
       "      <td>5.0</td>\n",
       "      <td>9.0</td>\n",
       "      <td>40.0</td>\n",
       "      <td>1.0</td>\n",
       "      <td>24.0</td>\n",
       "      <td>...</td>\n",
       "      <td>3.0</td>\n",
       "      <td>20.0</td>\n",
       "      <td>8.0</td>\n",
       "      <td>10.0</td>\n",
       "      <td>4.0</td>\n",
       "      <td>3.0</td>\n",
       "      <td>12.0</td>\n",
       "      <td>14.0</td>\n",
       "      <td>10.0</td>\n",
       "      <td>10.0</td>\n",
       "    </tr>\n",
       "    <tr>\n",
       "      <th>Dinotopoia</th>\n",
       "      <td>15.0</td>\n",
       "      <td>0.0</td>\n",
       "      <td>2.0</td>\n",
       "      <td>60.0</td>\n",
       "      <td>0.0</td>\n",
       "      <td>0.0</td>\n",
       "      <td>10.0</td>\n",
       "      <td>4.0</td>\n",
       "      <td>2.0</td>\n",
       "      <td>56.0</td>\n",
       "      <td>...</td>\n",
       "      <td>2.0</td>\n",
       "      <td>10.0</td>\n",
       "      <td>2.0</td>\n",
       "      <td>0.0</td>\n",
       "      <td>5.0</td>\n",
       "      <td>9.0</td>\n",
       "      <td>3.0</td>\n",
       "      <td>23.0</td>\n",
       "      <td>23.0</td>\n",
       "      <td>3.0</td>\n",
       "    </tr>\n",
       "    <tr>\n",
       "      <th>Erewhon</th>\n",
       "      <td>21.0</td>\n",
       "      <td>2.0</td>\n",
       "      <td>3.0</td>\n",
       "      <td>40.0</td>\n",
       "      <td>0.0</td>\n",
       "      <td>30.0</td>\n",
       "      <td>26.0</td>\n",
       "      <td>2.0</td>\n",
       "      <td>0.0</td>\n",
       "      <td>43.0</td>\n",
       "      <td>...</td>\n",
       "      <td>10.0</td>\n",
       "      <td>2.0</td>\n",
       "      <td>1.0</td>\n",
       "      <td>0.0</td>\n",
       "      <td>6.0</td>\n",
       "      <td>1.0</td>\n",
       "      <td>9.0</td>\n",
       "      <td>34.0</td>\n",
       "      <td>33.0</td>\n",
       "      <td>2.0</td>\n",
       "    </tr>\n",
       "    <tr>\n",
       "      <th>King's Landing</th>\n",
       "      <td>80.0</td>\n",
       "      <td>3.0</td>\n",
       "      <td>4.0</td>\n",
       "      <td>30.0</td>\n",
       "      <td>0.0</td>\n",
       "      <td>15.0</td>\n",
       "      <td>35.0</td>\n",
       "      <td>3.0</td>\n",
       "      <td>0.0</td>\n",
       "      <td>23.0</td>\n",
       "      <td>...</td>\n",
       "      <td>3.0</td>\n",
       "      <td>3.0</td>\n",
       "      <td>9.0</td>\n",
       "      <td>3.0</td>\n",
       "      <td>1.0</td>\n",
       "      <td>0.0</td>\n",
       "      <td>8.0</td>\n",
       "      <td>52.0</td>\n",
       "      <td>4.0</td>\n",
       "      <td>3.0</td>\n",
       "    </tr>\n",
       "    <tr>\n",
       "      <th>The Vale</th>\n",
       "      <td>43.0</td>\n",
       "      <td>1.0</td>\n",
       "      <td>5.0</td>\n",
       "      <td>10.0</td>\n",
       "      <td>0.0</td>\n",
       "      <td>12.0</td>\n",
       "      <td>30.0</td>\n",
       "      <td>4.0</td>\n",
       "      <td>0.0</td>\n",
       "      <td>10.0</td>\n",
       "      <td>...</td>\n",
       "      <td>2.0</td>\n",
       "      <td>4.0</td>\n",
       "      <td>0.0</td>\n",
       "      <td>2.0</td>\n",
       "      <td>2.0</td>\n",
       "      <td>24.0</td>\n",
       "      <td>1.0</td>\n",
       "      <td>10.0</td>\n",
       "      <td>1.0</td>\n",
       "      <td>1.0</td>\n",
       "    </tr>\n",
       "  </tbody>\n",
       "</table>\n",
       "<p>5 rows × 28 columns</p>\n",
       "</div>"
      ],
      "text/plain": [
       "                population  food  water  land  timber  housing  \\\n",
       "Atlantis              20.0  12.0   10.0  20.0    10.0      5.0   \n",
       "Dinotopoia            15.0   0.0    2.0  60.0     0.0      0.0   \n",
       "Erewhon               21.0   2.0    3.0  40.0     0.0     30.0   \n",
       "King's Landing        80.0   3.0    4.0  30.0     0.0     15.0   \n",
       "The Vale              43.0   1.0    5.0  10.0     0.0     12.0   \n",
       "\n",
       "                metallic alloy  electronics  potential fossil energy  \\\n",
       "Atlantis                   9.0         40.0                      1.0   \n",
       "Dinotopoia                10.0          4.0                      2.0   \n",
       "Erewhon                   26.0          2.0                      0.0   \n",
       "King's Landing            35.0          3.0                      0.0   \n",
       "The Vale                  30.0          4.0                      0.0   \n",
       "\n",
       "                potential fossil usable  ...  renewable energy  food waste  \\\n",
       "Atlantis                           24.0  ...               3.0        20.0   \n",
       "Dinotopoia                         56.0  ...               2.0        10.0   \n",
       "Erewhon                            43.0  ...              10.0         2.0   \n",
       "King's Landing                     23.0  ...               3.0         3.0   \n",
       "The Vale                           10.0  ...               2.0         4.0   \n",
       "\n",
       "                water waste  land waste  timber waste  housing waste  \\\n",
       "Atlantis                8.0        10.0           4.0            3.0   \n",
       "Dinotopoia              2.0         0.0           5.0            9.0   \n",
       "Erewhon                 1.0         0.0           6.0            1.0   \n",
       "King's Landing          9.0         3.0           1.0            0.0   \n",
       "The Vale                0.0         2.0           2.0           24.0   \n",
       "\n",
       "                metallicAlloy waste  electronics waste  \\\n",
       "Atlantis                       12.0               14.0   \n",
       "Dinotopoia                      3.0               23.0   \n",
       "Erewhon                         9.0               34.0   \n",
       "King's Landing                  8.0               52.0   \n",
       "The Vale                        1.0               10.0   \n",
       "\n",
       "                potential fossil energy waste  renewable energy waste  \n",
       "Atlantis                                 10.0                    10.0  \n",
       "Dinotopoia                               23.0                     3.0  \n",
       "Erewhon                                  33.0                     2.0  \n",
       "King's Landing                            4.0                     3.0  \n",
       "The Vale                                  1.0                     1.0  \n",
       "\n",
       "[5 rows x 28 columns]"
      ]
     },
     "execution_count": 27,
     "metadata": {},
     "output_type": "execute_result"
    }
   ],
   "source": [
    "countrydf"
   ]
  },
  {
   "cell_type": "code",
   "execution_count": 28,
   "id": "be453367",
   "metadata": {},
   "outputs": [],
   "source": [
    "transform(countrydf, 'Atlantis', FARM)"
   ]
  },
  {
   "cell_type": "code",
   "execution_count": 29,
   "id": "b8ddbbd6",
   "metadata": {},
   "outputs": [
    {
     "data": {
      "text/html": [
       "<div>\n",
       "<style scoped>\n",
       "    .dataframe tbody tr th:only-of-type {\n",
       "        vertical-align: middle;\n",
       "    }\n",
       "\n",
       "    .dataframe tbody tr th {\n",
       "        vertical-align: top;\n",
       "    }\n",
       "\n",
       "    .dataframe thead th {\n",
       "        text-align: right;\n",
       "    }\n",
       "</style>\n",
       "<table border=\"1\" class=\"dataframe\">\n",
       "  <thead>\n",
       "    <tr style=\"text-align: right;\">\n",
       "      <th></th>\n",
       "      <th>population</th>\n",
       "      <th>food</th>\n",
       "      <th>water</th>\n",
       "      <th>land</th>\n",
       "      <th>timber</th>\n",
       "      <th>housing</th>\n",
       "      <th>metallic alloy</th>\n",
       "      <th>electronics</th>\n",
       "      <th>potential fossil energy</th>\n",
       "      <th>potential fossil usable</th>\n",
       "      <th>...</th>\n",
       "      <th>renewable energy</th>\n",
       "      <th>food waste</th>\n",
       "      <th>water waste</th>\n",
       "      <th>land waste</th>\n",
       "      <th>timber waste</th>\n",
       "      <th>housing waste</th>\n",
       "      <th>metallicAlloy waste</th>\n",
       "      <th>electronics waste</th>\n",
       "      <th>potential fossil energy waste</th>\n",
       "      <th>renewable energy waste</th>\n",
       "    </tr>\n",
       "  </thead>\n",
       "  <tbody>\n",
       "    <tr>\n",
       "      <th>Atlantis</th>\n",
       "      <td>20.0</td>\n",
       "      <td>17.0</td>\n",
       "      <td>7.0</td>\n",
       "      <td>19.0</td>\n",
       "      <td>10.0</td>\n",
       "      <td>5.0</td>\n",
       "      <td>9.0</td>\n",
       "      <td>40.0</td>\n",
       "      <td>1.0</td>\n",
       "      <td>24.0</td>\n",
       "      <td>...</td>\n",
       "      <td>3.0</td>\n",
       "      <td>20.0</td>\n",
       "      <td>8.0</td>\n",
       "      <td>10.0</td>\n",
       "      <td>4.0</td>\n",
       "      <td>3.0</td>\n",
       "      <td>12.0</td>\n",
       "      <td>14.0</td>\n",
       "      <td>10.0</td>\n",
       "      <td>10.0</td>\n",
       "    </tr>\n",
       "    <tr>\n",
       "      <th>Dinotopoia</th>\n",
       "      <td>15.0</td>\n",
       "      <td>0.0</td>\n",
       "      <td>2.0</td>\n",
       "      <td>60.0</td>\n",
       "      <td>0.0</td>\n",
       "      <td>0.0</td>\n",
       "      <td>10.0</td>\n",
       "      <td>4.0</td>\n",
       "      <td>2.0</td>\n",
       "      <td>56.0</td>\n",
       "      <td>...</td>\n",
       "      <td>2.0</td>\n",
       "      <td>10.0</td>\n",
       "      <td>2.0</td>\n",
       "      <td>0.0</td>\n",
       "      <td>5.0</td>\n",
       "      <td>9.0</td>\n",
       "      <td>3.0</td>\n",
       "      <td>23.0</td>\n",
       "      <td>23.0</td>\n",
       "      <td>3.0</td>\n",
       "    </tr>\n",
       "    <tr>\n",
       "      <th>Erewhon</th>\n",
       "      <td>21.0</td>\n",
       "      <td>2.0</td>\n",
       "      <td>3.0</td>\n",
       "      <td>40.0</td>\n",
       "      <td>0.0</td>\n",
       "      <td>30.0</td>\n",
       "      <td>26.0</td>\n",
       "      <td>2.0</td>\n",
       "      <td>0.0</td>\n",
       "      <td>43.0</td>\n",
       "      <td>...</td>\n",
       "      <td>10.0</td>\n",
       "      <td>2.0</td>\n",
       "      <td>1.0</td>\n",
       "      <td>0.0</td>\n",
       "      <td>6.0</td>\n",
       "      <td>1.0</td>\n",
       "      <td>9.0</td>\n",
       "      <td>34.0</td>\n",
       "      <td>33.0</td>\n",
       "      <td>2.0</td>\n",
       "    </tr>\n",
       "    <tr>\n",
       "      <th>King's Landing</th>\n",
       "      <td>80.0</td>\n",
       "      <td>3.0</td>\n",
       "      <td>4.0</td>\n",
       "      <td>30.0</td>\n",
       "      <td>0.0</td>\n",
       "      <td>15.0</td>\n",
       "      <td>35.0</td>\n",
       "      <td>3.0</td>\n",
       "      <td>0.0</td>\n",
       "      <td>23.0</td>\n",
       "      <td>...</td>\n",
       "      <td>3.0</td>\n",
       "      <td>3.0</td>\n",
       "      <td>9.0</td>\n",
       "      <td>3.0</td>\n",
       "      <td>1.0</td>\n",
       "      <td>0.0</td>\n",
       "      <td>8.0</td>\n",
       "      <td>52.0</td>\n",
       "      <td>4.0</td>\n",
       "      <td>3.0</td>\n",
       "    </tr>\n",
       "    <tr>\n",
       "      <th>The Vale</th>\n",
       "      <td>43.0</td>\n",
       "      <td>1.0</td>\n",
       "      <td>5.0</td>\n",
       "      <td>10.0</td>\n",
       "      <td>0.0</td>\n",
       "      <td>12.0</td>\n",
       "      <td>30.0</td>\n",
       "      <td>4.0</td>\n",
       "      <td>0.0</td>\n",
       "      <td>10.0</td>\n",
       "      <td>...</td>\n",
       "      <td>2.0</td>\n",
       "      <td>4.0</td>\n",
       "      <td>0.0</td>\n",
       "      <td>2.0</td>\n",
       "      <td>2.0</td>\n",
       "      <td>24.0</td>\n",
       "      <td>1.0</td>\n",
       "      <td>10.0</td>\n",
       "      <td>1.0</td>\n",
       "      <td>1.0</td>\n",
       "    </tr>\n",
       "  </tbody>\n",
       "</table>\n",
       "<p>5 rows × 28 columns</p>\n",
       "</div>"
      ],
      "text/plain": [
       "                population  food  water  land  timber  housing  \\\n",
       "Atlantis              20.0  17.0    7.0  19.0    10.0      5.0   \n",
       "Dinotopoia            15.0   0.0    2.0  60.0     0.0      0.0   \n",
       "Erewhon               21.0   2.0    3.0  40.0     0.0     30.0   \n",
       "King's Landing        80.0   3.0    4.0  30.0     0.0     15.0   \n",
       "The Vale              43.0   1.0    5.0  10.0     0.0     12.0   \n",
       "\n",
       "                metallic alloy  electronics  potential fossil energy  \\\n",
       "Atlantis                   9.0         40.0                      1.0   \n",
       "Dinotopoia                10.0          4.0                      2.0   \n",
       "Erewhon                   26.0          2.0                      0.0   \n",
       "King's Landing            35.0          3.0                      0.0   \n",
       "The Vale                  30.0          4.0                      0.0   \n",
       "\n",
       "                potential fossil usable  ...  renewable energy  food waste  \\\n",
       "Atlantis                           24.0  ...               3.0        20.0   \n",
       "Dinotopoia                         56.0  ...               2.0        10.0   \n",
       "Erewhon                            43.0  ...              10.0         2.0   \n",
       "King's Landing                     23.0  ...               3.0         3.0   \n",
       "The Vale                           10.0  ...               2.0         4.0   \n",
       "\n",
       "                water waste  land waste  timber waste  housing waste  \\\n",
       "Atlantis                8.0        10.0           4.0            3.0   \n",
       "Dinotopoia              2.0         0.0           5.0            9.0   \n",
       "Erewhon                 1.0         0.0           6.0            1.0   \n",
       "King's Landing          9.0         3.0           1.0            0.0   \n",
       "The Vale                0.0         2.0           2.0           24.0   \n",
       "\n",
       "                metallicAlloy waste  electronics waste  \\\n",
       "Atlantis                       12.0               14.0   \n",
       "Dinotopoia                      3.0               23.0   \n",
       "Erewhon                         9.0               34.0   \n",
       "King's Landing                  8.0               52.0   \n",
       "The Vale                        1.0               10.0   \n",
       "\n",
       "                potential fossil energy waste  renewable energy waste  \n",
       "Atlantis                                 10.0                    10.0  \n",
       "Dinotopoia                               23.0                     3.0  \n",
       "Erewhon                                  33.0                     2.0  \n",
       "King's Landing                            4.0                     3.0  \n",
       "The Vale                                  1.0                     1.0  \n",
       "\n",
       "[5 rows x 28 columns]"
      ]
     },
     "execution_count": 29,
     "metadata": {},
     "output_type": "execute_result"
    }
   ],
   "source": [
    "countrydf"
   ]
  },
  {
   "cell_type": "code",
   "execution_count": null,
   "id": "6c18e3be",
   "metadata": {},
   "outputs": [],
   "source": []
  }
 ],
 "metadata": {
  "kernelspec": {
   "display_name": "Python 3 (ipykernel)",
   "language": "python",
   "name": "python3"
  },
  "language_info": {
   "codemirror_mode": {
    "name": "ipython",
    "version": 3
   },
   "file_extension": ".py",
   "mimetype": "text/x-python",
   "name": "python",
   "nbconvert_exporter": "python",
   "pygments_lexer": "ipython3",
   "version": "3.9.7"
  }
 },
 "nbformat": 4,
 "nbformat_minor": 5
}
