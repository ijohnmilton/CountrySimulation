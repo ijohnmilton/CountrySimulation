{
 "cells": [
  {
   "cell_type": "markdown",
   "id": "2b72565f",
   "metadata": {},
   "source": [
    "## Handle Imports"
   ]
  },
  {
   "cell_type": "code",
   "execution_count": null,
   "id": "2f3a1795",
   "metadata": {},
   "outputs": [],
   "source": [
    "import numpy as np\n",
    "import pandas as pd\n",
    "import heapq as pq\n",
    "import csv\n",
    "import statistics as stats"
   ]
  },
  {
   "cell_type": "markdown",
   "id": "01965101",
   "metadata": {},
   "source": [
    "# Upload methods"
   ]
  },
  {
   "cell_type": "markdown",
   "id": "60ca0d91",
   "metadata": {},
   "source": [
    "### Load Countries"
   ]
  },
  {
   "cell_type": "code",
   "execution_count": null,
   "id": "d76f8ebc",
   "metadata": {},
   "outputs": [],
   "source": [
    "def load_countries() -> dict:\n",
    "    countries = {}\n",
    "\n",
    "    with open(\"countries.csv\") as file:\n",
    "        reader = csv.DictReader(file)\n",
    "        for row in reader:\n",
    "            key = row[\"Country\"]\n",
    "            countries[key] = {name: float(value) for name, value in row.items() if name != \"Country\"}\n",
    "\n",
    "    return countries"
   ]
  },
  {
   "cell_type": "markdown",
   "id": "11e0f18d",
   "metadata": {},
   "source": [
    "### Load Resources"
   ]
  },
  {
   "cell_type": "code",
   "execution_count": null,
   "id": "d6632bad",
   "metadata": {},
   "outputs": [],
   "source": [
    "def load_resources() -> dict:\n",
    "    resources = {}\n",
    "\n",
    "    with open(\"resources.csv\") as file:\n",
    "        reader = csv.DictReader(file)\n",
    "        for row in reader:\n",
    "            key = row[\"Resource\"]\n",
    "            resources[key] = {name: float(value) if name == \"Weight\" else value for name, value in row.items() if name != \"Resource\"}\n",
    "\n",
    "    return resources"
   ]
  },
  {
   "cell_type": "markdown",
   "id": "ee3e0d9c",
   "metadata": {},
   "source": [
    "## Upload Countries"
   ]
  },
  {
   "cell_type": "code",
   "execution_count": null,
   "id": "71b57a3f",
   "metadata": {},
   "outputs": [],
   "source": [
    "countryList = load_countries()"
   ]
  },
  {
   "cell_type": "code",
   "execution_count": null,
   "id": "19100c90",
   "metadata": {},
   "outputs": [],
   "source": [
    "resourceList = load_resources()"
   ]
  },
  {
   "cell_type": "code",
   "execution_count": null,
   "id": "6e53969a",
   "metadata": {},
   "outputs": [],
   "source": [
    "print(countryList)"
   ]
  },
  {
   "cell_type": "code",
   "execution_count": null,
   "id": "bfec941a",
   "metadata": {},
   "outputs": [],
   "source": [
    "print(resourceList)"
   ]
  },
  {
   "cell_type": "markdown",
   "id": "58c25f3e",
   "metadata": {},
   "source": [
    "### Set to Pandas Dataframe"
   ]
  },
  {
   "cell_type": "code",
   "execution_count": null,
   "id": "bb1a9a26",
   "metadata": {},
   "outputs": [],
   "source": [
    "country_df = pd.DataFrame(countryList).transpose()"
   ]
  },
  {
   "cell_type": "code",
   "execution_count": null,
   "id": "e0bccdd6",
   "metadata": {},
   "outputs": [],
   "source": [
    "resource_df = pd.DataFrame(resourceList).transpose()"
   ]
  },
  {
   "cell_type": "code",
   "execution_count": null,
   "id": "ba4efc97",
   "metadata": {},
   "outputs": [],
   "source": [
    "country_df"
   ]
  },
  {
   "cell_type": "code",
   "execution_count": null,
   "id": "f104ecc2",
   "metadata": {},
   "outputs": [],
   "source": [
    "resource_df"
   ]
  },
  {
   "cell_type": "markdown",
   "id": "08f017ff",
   "metadata": {},
   "source": [
    "# State Quality Function"
   ]
  },
  {
   "cell_type": "markdown",
   "id": "576de3cf",
   "metadata": {},
   "source": [
    "### Check Country List"
   ]
  },
  {
   "cell_type": "code",
   "execution_count": null,
   "id": "8efccdda",
   "metadata": {},
   "outputs": [],
   "source": [
    "for key in countryList:\n",
    "    print(key, '->', countryList[key])"
   ]
  },
  {
   "cell_type": "markdown",
   "id": "922d30ad",
   "metadata": {},
   "source": [
    "### Set Maslow Constants"
   ]
  },
  {
   "cell_type": "code",
   "execution_count": null,
   "id": "fa6cbae7",
   "metadata": {},
   "outputs": [],
   "source": [
    "#different resource levels\n",
    "levelOneResources = {'food': 1, 'water': 1}\n",
    "levelTwoResources = {'housing': 1, 'timber': 1, 'metallic alloy': 0.5, 'electronics': 3, 'potential fossil energy': 1} \n",
    "levelThreeResources = {'community buildings': 0.05, 'jobs': 1, 'high school education': 1, 'college education': 1, 'universities': 1, 'marriages': 1} \n",
    "levelFourResources = {'children': 2.5, 'renewable energy': 1}\n",
    "levelFiveResources = {'food waste': -1, 'water waste': -1, 'land waste': -1, 'timber waste': -1, 'nobel prizes': 0.02}\n",
    "\n",
    "#list of levels\n",
    "levList = [levelOneResources, levelTwoResources, levelThreeResources, levelFourResources, levelFiveResources]"
   ]
  },
  {
   "cell_type": "code",
   "execution_count": null,
   "id": "7d29ac49",
   "metadata": {},
   "outputs": [],
   "source": [
    "print(levList)"
   ]
  },
  {
   "cell_type": "markdown",
   "id": "097e04dd",
   "metadata": {},
   "source": [
    "### Level Function"
   ]
  },
  {
   "cell_type": "code",
   "execution_count": null,
   "id": "59c85652",
   "metadata": {},
   "outputs": [],
   "source": [
    "#pandas version\n",
    "def leveldf(df, country, level, resources):\n",
    "    \n",
    "    levelSat = True\n",
    "    mult = []\n",
    "    average = 0\n",
    "\n",
    "    for key, value in levList[level-1].items():\n",
    "        countryVal = df.loc[country, key]\n",
    "        mult.append(countryVal/value)\n",
    "        if countryVal < value:\n",
    "            levelSat = False\n",
    "    \n",
    "    average = stats.mean(mult)\n",
    "    \n",
    "    if not levelSat:\n",
    "        average = average/4\n",
    "        \n",
    "    return average"
   ]
  },
  {
   "cell_type": "code",
   "execution_count": null,
   "id": "578701e9",
   "metadata": {},
   "outputs": [],
   "source": [
    "num = leveldf(country_df, 'Atlantis', 1, levList)\n",
    "num"
   ]
  },
  {
   "cell_type": "markdown",
   "id": "e4351674",
   "metadata": {},
   "source": [
    "## Maslow Function"
   ]
  },
  {
   "cell_type": "code",
   "execution_count": null,
   "id": "37e3e768",
   "metadata": {},
   "outputs": [],
   "source": [
    "def maslow(df, country, level, resources):\n",
    "    \n",
    "    maslowList = []\n",
    "    \n",
    "    ## normalize\n",
    "    norm_df = df.copy()\n",
    "    \n",
    "    for row in range(len(norm_df)):\n",
    "        \n",
    "        values = norm_df.iloc[row]\n",
    "        popVal = values[0]\n",
    "        \n",
    "        for vals in range(1, len(values)):\n",
    "            values[vals] = values[vals]/popVal\n",
    "    \n",
    "    # maslow function\n",
    "    for num in range(1, level+1):\n",
    "        levValue = leveldf(norm_df, country, num, levList)\n",
    "        maslowList.append(levValue)\n",
    "            \n",
    "    return maslowList"
   ]
  },
  {
   "cell_type": "code",
   "execution_count": null,
   "id": "42dc66cf",
   "metadata": {},
   "outputs": [],
   "source": [
    "maslowL = maslow(country_df, 'The Vale', 5, levList)"
   ]
  },
  {
   "cell_type": "code",
   "execution_count": null,
   "id": "2b3506cf",
   "metadata": {},
   "outputs": [],
   "source": [
    "print(maslowL)"
   ]
  },
  {
   "cell_type": "code",
   "execution_count": null,
   "id": "2dee73ec",
   "metadata": {},
   "outputs": [],
   "source": [
    "def maslowHeuristicVal(lst):\n",
    "    return stats.mean(maslowL)"
   ]
  },
  {
   "cell_type": "code",
   "execution_count": null,
   "id": "3c9f57b2",
   "metadata": {},
   "outputs": [],
   "source": [
    "masVal = maslowHeuristicVal(maslowL)"
   ]
  },
  {
   "cell_type": "code",
   "execution_count": null,
   "id": "ec848a1c",
   "metadata": {},
   "outputs": [],
   "source": [
    "print(masVal)"
   ]
  },
  {
   "cell_type": "markdown",
   "id": "b920fb72",
   "metadata": {},
   "source": [
    "# Transform Templates"
   ]
  },
  {
   "cell_type": "code",
   "execution_count": null,
   "id": "8d1c6d71",
   "metadata": {},
   "outputs": [],
   "source": [
    "HOUSING = [{'land': 1, 'population': 5, 'water': 5, 'metallic element': 1, 'timber': 5, 'metallic alloy': 3, 'potential fossil usable': 5}, {'housing': 1, 'housing waste': 1, 'timber waste': 1, 'population': 5, 'water': 4}]\n",
    "ALLOYS = [{'population': 1, 'metallic element': 2, 'water': 3, 'potential fossil usable': 3}, {'population': 1, 'metallic alloy': 1, 'metallicAlloy waste': 1, 'water': 2}]\n",
    "ELECTRONICS = [{'population': 1, 'metallic element': 3, 'metallic alloy': 2, 'water': 3, 'potential fossil usable': 3}, {'population': 1, 'electronics': 2, 'electronics waste': 1, 'water': 2}]\n",
    "FARM = [{'population': 1, 'land' : 1, 'water': 3}, {'food': 5, 'population': 1}]\n",
    "LOGGING = [{'population': 3, 'potential fossil usable': 3}, {'population': 3, 'timber': 5}]\n",
    "PURIFY_WATER = [{'population': 3, 'potential fossil usable': 3}, {'population': 3, 'water': 5}]\n",
    "FOSSIL_ENERGY = [{'population': 5, 'potential fossil energy': 2}, {'population': 5, 'potential fossil usable': 1, 'potential fossil energy waste': 1}]\n",
    "RENEWABLE_ENERGY = [{'population': 5, 'potential fossil usable': 3}, {'population': 5, 'renewable energy': 1, 'renewable energy waste': 1}]\n",
    "COMMUNITY_BUILDING = [{'land': 1, 'population': 10, 'water': 5, 'metallic element': 3, 'timber': 8, 'metallic alloy': 5, 'potential fossil usable': 5}, {'community buildings': 1, 'housing waste': 1, 'timber waste': 1, 'metallicAlloy waste': 1, 'population': 10, 'water': 4}]\n",
    "UNIVERSITY = [{'land': 1, 'population': 50, 'water': 5, 'metallic element': 5, 'timber': 10, 'metallic alloy': 5, 'potential fossil usable': 5}, {'universities': 1, 'population': 50, 'water': 3, 'timber waste': 1, 'metallicAlloy waste': 1}]\n",
    "JOB_HS = [{'population': 25, 'high school education': 1}, {'population': 25, 'jobs': 1}]\n",
    "JOB_C = [{'population': 50, 'college education': 1}, {'population': 50, 'jobs': 1}]\n",
    "HIGHSCHOOL_ED = [{'population': 15, 'housing': 1, 'children': 1}, {'population': 16, 'housing': 1, 'high school education': 1}]\n",
    "COLLEGE_ED = [{'population': 50, 'housing': 1, 'universities': 1, 'high school education': 1}, {'population': 50, 'housing': 1, 'universities': 1, 'college education': 1}]\n",
    "MARRIAGE = [{'population': 2, 'housing': 1}, {'population': 2, 'housing': 1, 'marriages': 1}]\n",
    "CHILDREN = [{'marriages': 1, 'housing': 1}, {'marriages': 1, 'housing': 1, 'children': 2}]\n",
    "NOBEL_PRIZE = [{'population': 1, 'universities': 10, 'college education': 50, 'potential fossil usable': 10}, {'population': 1, 'universities': 10, 'college education': 50, 'nobel prizes': 1}]"
   ]
  },
  {
   "cell_type": "markdown",
   "id": "d166623f",
   "metadata": {},
   "source": [
    "# Transform Function"
   ]
  },
  {
   "cell_type": "code",
   "execution_count": null,
   "id": "c8146ade",
   "metadata": {},
   "outputs": [],
   "source": [
    "def transform(df, country, transform):\n",
    "    \n",
    "    allowed = True\n",
    "    \n",
    "    #check if transform is possible\n",
    "    for key in transform[0]:\n",
    "        val = transform[0][key]\n",
    "        if(df.loc[country, key] - val < 0):\n",
    "            allowed = False\n",
    "    \n",
    "    if(allowed):\n",
    "        #remove input resoures\n",
    "        for key in transform[0]:\n",
    "            val = transform[0][key]\n",
    "            df.loc[country, key] -= val\n",
    "\n",
    "        #add output resources\n",
    "        for key in transform[1]:\n",
    "            val = transform[1][key]\n",
    "            df.loc[country, key] += val"
   ]
  },
  {
   "cell_type": "markdown",
   "id": "b22dd43c",
   "metadata": {},
   "source": [
    "# Transform Test Case"
   ]
  },
  {
   "cell_type": "code",
   "execution_count": null,
   "id": "0bfe252e",
   "metadata": {},
   "outputs": [],
   "source": [
    "country_df"
   ]
  },
  {
   "cell_type": "code",
   "execution_count": null,
   "id": "be453367",
   "metadata": {},
   "outputs": [],
   "source": [
    "transform(country_df, 'Atlantis', FARM)"
   ]
  },
  {
   "cell_type": "code",
   "execution_count": null,
   "id": "b8ddbbd6",
   "metadata": {},
   "outputs": [],
   "source": [
    "country_df"
   ]
  },
  {
   "cell_type": "markdown",
<<<<<<< HEAD
   "id": "bd85941b",
=======
   "id": "2355193d",
>>>>>>> sith
   "metadata": {
    "pycharm": {
     "name": "#%% md\n"
    }
   },
   "source": [
    "# Transfer Function Definition"
   ]
  },
  {
   "cell_type": "code",
   "execution_count": null,
<<<<<<< HEAD
   "id": "5362589a",
=======
   "id": "28a5341f",
>>>>>>> sith
   "metadata": {
    "pycharm": {
     "name": "#%%\n"
    }
   },
   "outputs": [],
   "source": [
    "def transfer(df, country1, country2, transfer):\n",
    "\n",
    "    allowed = True\n",
    "\n",
    "    #check for validityy\n",
    "\n",
    "    for key in transfer:\n",
    "        val = transfer[key]\n",
    "        if (df.loc[country1,key] - val < 0):\n",
    "            allowed = False\n",
    "\n",
    "    if(allowed):\n",
    "        #remove resource from country 1\n",
    "        for key in transfer:\n",
    "            val = transfer[key]\n",
    "            df.loc[country1,key] -= val\n",
    "\n",
    "        #add resource to country 2\n",
    "        for key in transfer:\n",
    "            val = transfer[key]\n",
    "            df.loc[country2,key] += val\n",
    "\n"
   ]
  },
  {
   "cell_type": "markdown",
<<<<<<< HEAD
   "id": "4dcb223b",
=======
   "id": "9eab5c5f",
>>>>>>> sith
   "metadata": {
    "pycharm": {
     "name": "#%% md\n"
    }
   },
   "source": [
    "# Transfer Templates"
   ]
  },
  {
   "cell_type": "code",
   "execution_count": null,
<<<<<<< HEAD
   "id": "bcc1102c",
=======
   "id": "89438129",
>>>>>>> sith
   "metadata": {
    "pycharm": {
     "name": "#%%\n"
    }
   },
   "outputs": [],
   "source": [
    "FOOD = {\"food\":5}\n",
    "WATER = {\"water\":5}\n",
    "TIMBER = {\"timber\":5}\n",
    "METALLIC_ELEMENT = {\"metallic element\":5}\n",
    "METALLIC_ALLOY = {\"metallic alloy\":5}\n",
    "ELECTRONICS_TRANSFER = {\"electronics\":5}\n",
    "POTENTIAL_FOSSIL_ENERGY = {\"potential fossil energy\":5}\n",
    "POTENTIAL_FOSSIL_USABLE = {\"potential fossil usable\":5}\n",
    "RENEWABLE_ENERGY_TRANSFER = {\"renewable energy\":5}"
   ]
  },
  {
   "cell_type": "markdown",
<<<<<<< HEAD
   "id": "e7d81060",
=======
   "id": "e420f27d",
>>>>>>> sith
   "metadata": {
    "pycharm": {
     "name": "#%% md\n"
    }
   },
   "source": [
    "# Trade Function Definition"
   ]
  },
  {
   "cell_type": "code",
   "execution_count": null,
<<<<<<< HEAD
   "id": "23531563",
=======
   "id": "da4035e8",
>>>>>>> sith
   "metadata": {
    "pycharm": {
     "name": "#%%\n"
    }
   },
   "outputs": [],
   "source": [
    "def trade(df, country1, country2, transfer1, transfer2):\n",
    "    # A trade deal between two countries country1 and country2\n",
    "    # for which country uses transfer1 and country2 uses transfer2\n",
    "    transfer(df, country1, country2, transfer1)\n",
    "    transfer(df, country2, country1, transfer2)"
   ]
  },
  {
   "cell_type": "markdown",
<<<<<<< HEAD
   "id": "cc3f0e24",
   "metadata": {},
   "source": [
    "# Expected Utility Function"
=======
   "id": "294c373e",
   "metadata": {},
   "source": [
    "# Node Definition"
   ]
  },
  {
   "cell_type": "code",
   "execution_count": 1,
   "id": "55a2442c",
   "metadata": {},
   "outputs": [],
   "source": [
    "class Node:\n",
    "    def __init__(self, squal, exutil, sched, countrydf):\n",
    "        self.squal = squal\n",
    "        self.exutil = exutil\n",
    "        self.sched = sched\n",
    "        self.countrydf = countrydf\n",
    "    def getSqual(self):\n",
    "        return self.squal\n",
    "    def getExutil(self):\n",
    "        return self.exutil\n",
    "    def getSched(self):\n",
    "        return self.sched\n",
    "    def getCountrydf(self):\n",
    "        return self.countrydf\n",
    "        "
>>>>>>> sith
   ]
  },
  {
   "cell_type": "markdown",
<<<<<<< HEAD
   "id": "d49d3c91",
   "metadata": {},
   "source": [
    "### test"
=======
   "id": "f2e8d21d",
   "metadata": {},
   "source": [
    "# Bounded Priority Queue Definition"
>>>>>>> sith
   ]
  },
  {
   "cell_type": "code",
<<<<<<< HEAD
   "execution_count": 1,
   "id": "a6660c7d",
   "metadata": {},
   "outputs": [
    {
     "name": "stdout",
     "output_type": "stream",
     "text": [
      "Hello\n"
     ]
    }
   ],
   "source": [
    "print('Hello')"
=======
   "execution_count": 2,
   "id": "82c4fa10",
   "metadata": {},
   "outputs": [],
   "source": [
    "class BoundedPriorityQueue:\n",
    "    def __init__(self, bound=None):\n",
    "        self.bound = bound\n",
    "        self.queue = list()\n",
    "    def push(self, priority, item):\n",
    "        if len(self.queue) == self.bound:\n",
    "            pq.heappushpop(self.queue, (priority, item))\n",
    "        else:\n",
    "            pq.heappush(self.queue, (priority, item))\n",
    "    def pop(self):\n",
    "        return pq.heapop(self.queue)[-1]\n",
    "    def clear(self):\n",
    "        self.queue.clear()\n"
>>>>>>> sith
   ]
  },
  {
   "cell_type": "code",
   "execution_count": null,
<<<<<<< HEAD
   "id": "22eab1eb",
=======
   "id": "9b248132",
>>>>>>> sith
   "metadata": {},
   "outputs": [],
   "source": []
  }
 ],
 "metadata": {
  "kernelspec": {
   "display_name": "Python 3 (ipykernel)",
   "language": "python",
   "name": "python3"
  },
  "language_info": {
   "codemirror_mode": {
    "name": "ipython",
    "version": 3
   },
   "file_extension": ".py",
   "mimetype": "text/x-python",
   "name": "python",
   "nbconvert_exporter": "python",
   "pygments_lexer": "ipython3",
<<<<<<< HEAD
   "version": "3.8.11"
=======
   "version": "3.10.2"
>>>>>>> sith
  }
 },
 "nbformat": 4,
 "nbformat_minor": 5
}
