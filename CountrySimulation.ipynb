{
 "cells": [
  {
   "cell_type": "markdown",
   "id": "2b72565f",
   "metadata": {},
   "source": [
    "## Handle Imports"
   ]
  },
  {
   "cell_type": "code",
   "execution_count": 186,
   "id": "2f3a1795",
   "metadata": {},
   "outputs": [],
   "source": [
    "import numpy as np\n",
    "import pandas as pd\n",
    "import csv\n",
    "import statistics as stats"
   ]
  },
  {
   "cell_type": "markdown",
   "id": "01965101",
   "metadata": {},
   "source": [
    "# Upload methods"
   ]
  },
  {
   "cell_type": "markdown",
   "id": "60ca0d91",
   "metadata": {},
   "source": [
    "### Load Countries"
   ]
  },
  {
   "cell_type": "code",
   "execution_count": 187,
   "id": "d76f8ebc",
   "metadata": {},
   "outputs": [],
   "source": [
    "def load_countries() -> dict:\n",
    "    countries = {}\n",
    "\n",
    "    with open(\"countries.csv\") as file:\n",
    "        reader = csv.DictReader(file)\n",
    "        for row in reader:\n",
    "            key = row[\"Country\"]\n",
    "            countries[key] = {name: int(value) for name, value in row.items() if name != \"Country\"}\n",
    "\n",
    "    return countries"
   ]
  },
  {
   "cell_type": "markdown",
   "id": "11e0f18d",
   "metadata": {},
   "source": [
    "### Load Resources"
   ]
  },
  {
   "cell_type": "code",
   "execution_count": 188,
   "id": "d6632bad",
   "metadata": {},
   "outputs": [],
   "source": [
    "def load_resources() -> dict:\n",
    "    resources = {}\n",
    "\n",
    "    with open(\"resources.csv\") as file:\n",
    "        reader = csv.DictReader(file)\n",
    "        for row in reader:\n",
    "            key = row[\"Resource\"]\n",
    "            resources[key] = {name: float(value) if name == \"Weight\" else value for name, value in row.items() if name != \"Resource\"}\n",
    "\n",
    "    return resources"
   ]
  },
  {
   "cell_type": "markdown",
   "id": "ee3e0d9c",
   "metadata": {},
   "source": [
    "## Upload Countries"
   ]
  },
  {
   "cell_type": "code",
   "execution_count": 189,
   "id": "71b57a3f",
   "metadata": {},
   "outputs": [],
   "source": [
    "countryList = load_countries()"
   ]
  },
  {
   "cell_type": "code",
   "execution_count": 190,
   "id": "19100c90",
   "metadata": {},
   "outputs": [],
   "source": [
    "resourceList = load_resources()"
   ]
  },
  {
   "cell_type": "code",
   "execution_count": 191,
   "id": "6e53969a",
   "metadata": {},
   "outputs": [
    {
     "name": "stdout",
     "output_type": "stream",
     "text": [
      "{'Atlantis': {'R1': 20, 'R2': 12, 'R3': 10, 'R4': 20, 'R5': 10, 'R6': 5, 'R7': 9, 'R8': 40, 'R9': 1, 'R10': 24}, 'Dinotopoia': {'R1': 15, 'R2': 0, 'R3': 2, 'R4': 60, 'R5': 0, 'R6': 0, 'R7': 10, 'R8': 4, 'R9': 2, 'R10': 56}, 'Erewhon': {'R1': 21, 'R2': 2, 'R3': 3, 'R4': 40, 'R5': 0, 'R6': 30, 'R7': 26, 'R8': 2, 'R9': 0, 'R10': 43}, \"King's Landing\": {'R1': 80, 'R2': 3, 'R3': 4, 'R4': 30, 'R5': 0, 'R6': 15, 'R7': 35, 'R8': 3, 'R9': 0, 'R10': 23}, 'The Vale': {'R1': 43, 'R2': 1, 'R3': 5, 'R4': 10, 'R5': 0, 'R6': 12, 'R7': 30, 'R8': 4, 'R9': 0, 'R10': 10}}\n"
     ]
    }
   ],
   "source": [
    "print(countryList)"
   ]
  },
  {
   "cell_type": "code",
   "execution_count": 192,
   "id": "bfec941a",
   "metadata": {},
   "outputs": [
    {
     "name": "stdout",
     "output_type": "stream",
     "text": [
      "{'R1': {'Weight': 0.0, 'Notes': 'analog to population'}, 'R2': {'Weight': 0.0, 'Notes': 'analog to metalic elements'}, 'R3': {'Weight': 0.0, 'Notes': 'analog to timber'}, 'R4': {'Weight': 0.2, 'Notes': 'analog to metallic alloys'}, 'R5': {'Weight': 0.5, 'Notes': 'analog to electronics'}, 'R6': {'Weight': 0.8, 'Notes': 'analog to housing'}, 'R7': {'Weight': -0.5, 'Notes': 'waste'}, 'R8': {'Weight': -0.8, 'Notes': 'waste'}, 'R9': {'Weight': -0.4, 'Notes': 'waste'}, 'R10': {'Weight': -0.2, 'Notes': 'waste'}}\n"
     ]
    }
   ],
   "source": [
    "print(resourceList)"
   ]
  },
  {
   "cell_type": "markdown",
   "id": "58c25f3e",
   "metadata": {},
   "source": [
    "### Set to Pandas Dataframe"
   ]
  },
  {
   "cell_type": "code",
   "execution_count": 193,
   "id": "bb1a9a26",
   "metadata": {},
   "outputs": [],
   "source": [
    "countrydf = pd.DataFrame(countryList).transpose()"
   ]
  },
  {
   "cell_type": "code",
   "execution_count": 194,
   "id": "e0bccdd6",
   "metadata": {},
   "outputs": [],
   "source": [
    "resourcedf = pd.DataFrame(resourceList).transpose()"
   ]
  },
  {
   "cell_type": "code",
   "execution_count": 195,
   "id": "ba4efc97",
   "metadata": {},
   "outputs": [
    {
     "data": {
      "text/html": [
       "<div>\n",
       "<style scoped>\n",
       "    .dataframe tbody tr th:only-of-type {\n",
       "        vertical-align: middle;\n",
       "    }\n",
       "\n",
       "    .dataframe tbody tr th {\n",
       "        vertical-align: top;\n",
       "    }\n",
       "\n",
       "    .dataframe thead th {\n",
       "        text-align: right;\n",
       "    }\n",
       "</style>\n",
       "<table border=\"1\" class=\"dataframe\">\n",
       "  <thead>\n",
       "    <tr style=\"text-align: right;\">\n",
       "      <th></th>\n",
       "      <th>R1</th>\n",
       "      <th>R2</th>\n",
       "      <th>R3</th>\n",
       "      <th>R4</th>\n",
       "      <th>R5</th>\n",
       "      <th>R6</th>\n",
       "      <th>R7</th>\n",
       "      <th>R8</th>\n",
       "      <th>R9</th>\n",
       "      <th>R10</th>\n",
       "    </tr>\n",
       "  </thead>\n",
       "  <tbody>\n",
       "    <tr>\n",
       "      <th>Atlantis</th>\n",
       "      <td>20</td>\n",
       "      <td>12</td>\n",
       "      <td>10</td>\n",
       "      <td>20</td>\n",
       "      <td>10</td>\n",
       "      <td>5</td>\n",
       "      <td>9</td>\n",
       "      <td>40</td>\n",
       "      <td>1</td>\n",
       "      <td>24</td>\n",
       "    </tr>\n",
       "    <tr>\n",
       "      <th>Dinotopoia</th>\n",
       "      <td>15</td>\n",
       "      <td>0</td>\n",
       "      <td>2</td>\n",
       "      <td>60</td>\n",
       "      <td>0</td>\n",
       "      <td>0</td>\n",
       "      <td>10</td>\n",
       "      <td>4</td>\n",
       "      <td>2</td>\n",
       "      <td>56</td>\n",
       "    </tr>\n",
       "    <tr>\n",
       "      <th>Erewhon</th>\n",
       "      <td>21</td>\n",
       "      <td>2</td>\n",
       "      <td>3</td>\n",
       "      <td>40</td>\n",
       "      <td>0</td>\n",
       "      <td>30</td>\n",
       "      <td>26</td>\n",
       "      <td>2</td>\n",
       "      <td>0</td>\n",
       "      <td>43</td>\n",
       "    </tr>\n",
       "    <tr>\n",
       "      <th>King's Landing</th>\n",
       "      <td>80</td>\n",
       "      <td>3</td>\n",
       "      <td>4</td>\n",
       "      <td>30</td>\n",
       "      <td>0</td>\n",
       "      <td>15</td>\n",
       "      <td>35</td>\n",
       "      <td>3</td>\n",
       "      <td>0</td>\n",
       "      <td>23</td>\n",
       "    </tr>\n",
       "    <tr>\n",
       "      <th>The Vale</th>\n",
       "      <td>43</td>\n",
       "      <td>1</td>\n",
       "      <td>5</td>\n",
       "      <td>10</td>\n",
       "      <td>0</td>\n",
       "      <td>12</td>\n",
       "      <td>30</td>\n",
       "      <td>4</td>\n",
       "      <td>0</td>\n",
       "      <td>10</td>\n",
       "    </tr>\n",
       "  </tbody>\n",
       "</table>\n",
       "</div>"
      ],
      "text/plain": [
       "                R1  R2  R3  R4  R5  R6  R7  R8  R9  R10\n",
       "Atlantis        20  12  10  20  10   5   9  40   1   24\n",
       "Dinotopoia      15   0   2  60   0   0  10   4   2   56\n",
       "Erewhon         21   2   3  40   0  30  26   2   0   43\n",
       "King's Landing  80   3   4  30   0  15  35   3   0   23\n",
       "The Vale        43   1   5  10   0  12  30   4   0   10"
      ]
     },
     "execution_count": 195,
     "metadata": {},
     "output_type": "execute_result"
    }
   ],
   "source": [
    "countrydf"
   ]
  },
  {
   "cell_type": "code",
   "execution_count": 196,
   "id": "f104ecc2",
   "metadata": {},
   "outputs": [
    {
     "data": {
      "text/html": [
       "<div>\n",
       "<style scoped>\n",
       "    .dataframe tbody tr th:only-of-type {\n",
       "        vertical-align: middle;\n",
       "    }\n",
       "\n",
       "    .dataframe tbody tr th {\n",
       "        vertical-align: top;\n",
       "    }\n",
       "\n",
       "    .dataframe thead th {\n",
       "        text-align: right;\n",
       "    }\n",
       "</style>\n",
       "<table border=\"1\" class=\"dataframe\">\n",
       "  <thead>\n",
       "    <tr style=\"text-align: right;\">\n",
       "      <th></th>\n",
       "      <th>Weight</th>\n",
       "      <th>Notes</th>\n",
       "    </tr>\n",
       "  </thead>\n",
       "  <tbody>\n",
       "    <tr>\n",
       "      <th>R1</th>\n",
       "      <td>0.0</td>\n",
       "      <td>analog to population</td>\n",
       "    </tr>\n",
       "    <tr>\n",
       "      <th>R2</th>\n",
       "      <td>0.0</td>\n",
       "      <td>analog to metalic elements</td>\n",
       "    </tr>\n",
       "    <tr>\n",
       "      <th>R3</th>\n",
       "      <td>0.0</td>\n",
       "      <td>analog to timber</td>\n",
       "    </tr>\n",
       "    <tr>\n",
       "      <th>R4</th>\n",
       "      <td>0.2</td>\n",
       "      <td>analog to metallic alloys</td>\n",
       "    </tr>\n",
       "    <tr>\n",
       "      <th>R5</th>\n",
       "      <td>0.5</td>\n",
       "      <td>analog to electronics</td>\n",
       "    </tr>\n",
       "    <tr>\n",
       "      <th>R6</th>\n",
       "      <td>0.8</td>\n",
       "      <td>analog to housing</td>\n",
       "    </tr>\n",
       "    <tr>\n",
       "      <th>R7</th>\n",
       "      <td>-0.5</td>\n",
       "      <td>waste</td>\n",
       "    </tr>\n",
       "    <tr>\n",
       "      <th>R8</th>\n",
       "      <td>-0.8</td>\n",
       "      <td>waste</td>\n",
       "    </tr>\n",
       "    <tr>\n",
       "      <th>R9</th>\n",
       "      <td>-0.4</td>\n",
       "      <td>waste</td>\n",
       "    </tr>\n",
       "    <tr>\n",
       "      <th>R10</th>\n",
       "      <td>-0.2</td>\n",
       "      <td>waste</td>\n",
       "    </tr>\n",
       "  </tbody>\n",
       "</table>\n",
       "</div>"
      ],
      "text/plain": [
       "    Weight                       Notes\n",
       "R1     0.0        analog to population\n",
       "R2     0.0  analog to metalic elements\n",
       "R3     0.0            analog to timber\n",
       "R4     0.2   analog to metallic alloys\n",
       "R5     0.5       analog to electronics\n",
       "R6     0.8           analog to housing\n",
       "R7    -0.5                       waste\n",
       "R8    -0.8                       waste\n",
       "R9    -0.4                       waste\n",
       "R10   -0.2                       waste"
      ]
     },
     "execution_count": 196,
     "metadata": {},
     "output_type": "execute_result"
    }
   ],
   "source": [
    "resourcedf"
   ]
  },
  {
   "cell_type": "markdown",
   "id": "15311eaf",
   "metadata": {},
   "source": [
    "# State Quality Evaluation"
   ]
  },
  {
   "cell_type": "markdown",
   "id": "08f017ff",
   "metadata": {},
   "source": [
    "### Check Country List"
   ]
  },
  {
   "cell_type": "code",
   "execution_count": 197,
   "id": "8efccdda",
   "metadata": {},
   "outputs": [
    {
     "name": "stdout",
     "output_type": "stream",
     "text": [
      "Atlantis -> {'R1': 20, 'R2': 12, 'R3': 10, 'R4': 20, 'R5': 10, 'R6': 5, 'R7': 9, 'R8': 40, 'R9': 1, 'R10': 24}\n",
      "Dinotopoia -> {'R1': 15, 'R2': 0, 'R3': 2, 'R4': 60, 'R5': 0, 'R6': 0, 'R7': 10, 'R8': 4, 'R9': 2, 'R10': 56}\n",
      "Erewhon -> {'R1': 21, 'R2': 2, 'R3': 3, 'R4': 40, 'R5': 0, 'R6': 30, 'R7': 26, 'R8': 2, 'R9': 0, 'R10': 43}\n",
      "King's Landing -> {'R1': 80, 'R2': 3, 'R3': 4, 'R4': 30, 'R5': 0, 'R6': 15, 'R7': 35, 'R8': 3, 'R9': 0, 'R10': 23}\n",
      "The Vale -> {'R1': 43, 'R2': 1, 'R3': 5, 'R4': 10, 'R5': 0, 'R6': 12, 'R7': 30, 'R8': 4, 'R9': 0, 'R10': 10}\n"
     ]
    }
   ],
   "source": [
    "for key in countryList:\n",
    "    print(key, '->', countryList[key])"
   ]
  },
  {
   "cell_type": "markdown",
   "id": "922d30ad",
   "metadata": {},
   "source": [
    "### Set Maslow Constants"
   ]
  },
  {
   "cell_type": "code",
   "execution_count": 208,
   "id": "fa6cbae7",
   "metadata": {},
   "outputs": [],
   "source": [
    "#different resource levels\n",
    "levelOneResources = {'R1': 10, 'R3': 20}\n",
    "levelTwoResources = {'R2': 20, 'R4': 5} \n",
    "levelThreeResources = {'R5': 20} \n",
    "levelFourResources = {'R6': 35}\n",
    "levelFiveResources = {'R7': 35, 'R8': 20, 'R9': 10, 'R10': 25}\n",
    "\n",
    "#list of levels\n",
    "levList = [levelOneResources, levelTwoResources, levelThreeResources, levelFourResources, levelFiveResources]"
   ]
  },
  {
   "cell_type": "code",
   "execution_count": 209,
   "id": "7d29ac49",
   "metadata": {},
   "outputs": [
    {
     "name": "stdout",
     "output_type": "stream",
     "text": [
      "[{'R1': 10, 'R3': 20}, {'R2': 20, 'R4': 5}, {'R5': 20}, {'R6': 35}, {'R7': 35, 'R8': 20, 'R9': 10, 'R10': 25}]\n"
     ]
    }
   ],
   "source": [
    "print(levList)"
   ]
  },
  {
   "cell_type": "markdown",
   "id": "097e04dd",
   "metadata": {},
   "source": [
    "### Level Function"
   ]
  },
  {
   "cell_type": "code",
   "execution_count": 217,
   "id": "59c85652",
   "metadata": {},
   "outputs": [],
   "source": [
    "#pandas version\n",
    "def leveldf(df, country, level, resources):\n",
    "    \n",
    "    levelSat = True\n",
    "    mult = []\n",
    "    average = 0\n",
    "\n",
    "    for key, value in levList[level-1].items():\n",
    "        countryVal = df.loc[country, key]\n",
    "        mult.append(countryVal/value)\n",
    "        if countryVal < value:\n",
    "            levelSat = False\n",
    "    \n",
    "    average = stats.mean(mult)\n",
    "    \n",
    "    if not levelSat:\n",
    "        average = average/4\n",
    "        \n",
    "    return average"
   ]
  },
  {
   "cell_type": "code",
   "execution_count": 218,
   "id": "578701e9",
   "metadata": {},
   "outputs": [
    {
     "data": {
      "text/plain": [
       "0.3125"
      ]
     },
     "execution_count": 218,
     "metadata": {},
     "output_type": "execute_result"
    }
   ],
   "source": [
    "num = leveldf(countrydf, 'Atlantis', 1, levList)\n",
    "num"
   ]
  },
  {
   "cell_type": "code",
   "execution_count": 219,
   "id": "e6a060c9",
   "metadata": {},
   "outputs": [],
   "source": [
    "#dictionary version (doesn't work)\n",
    "def level(country, level):\n",
    "\n",
    "    levelSat = True\n",
    "    mult = []\n",
    "    average = 0\n",
    "    \n",
    "    #go through each resource of the country\n",
    "    for key, value in country:\n",
    "        if key in level.keys():\n",
    "            mult.append(value/level.keys()[0])\n",
    "            if value < level.keys()[0]:\n",
    "                levelSat = False\n",
    "    \n",
    "    average = mult.sum()/mult.len()\n",
    "    \n",
    "    if not levelSat:\n",
    "        average = average/4\n",
    "        \n",
    "    return average"
   ]
  },
  {
   "cell_type": "markdown",
   "id": "e4351674",
   "metadata": {},
   "source": [
    "## Maslow Function"
   ]
  },
  {
   "cell_type": "code",
   "execution_count": 222,
   "id": "37e3e768",
   "metadata": {},
   "outputs": [],
   "source": [
    "def maslow(df, country, level, resources):\n",
    "    \n",
    "    maslowList = []\n",
    "    \n",
    "    for num in range(1, level+1):\n",
    "        levValue = leveldf(countrydf, country, num, levList)\n",
    "        maslowList.append(levValue)\n",
    "            \n",
    "    return maslowList"
   ]
  },
  {
   "cell_type": "code",
   "execution_count": 223,
   "id": "42dc66cf",
   "metadata": {},
   "outputs": [],
   "source": [
    "maslowL = maslow(countrydf, 'The Vale', 5, levList)"
   ]
  },
  {
   "cell_type": "code",
   "execution_count": 224,
   "id": "2b3506cf",
   "metadata": {},
   "outputs": [
    {
     "name": "stdout",
     "output_type": "stream",
     "text": [
      "[0.56875, 0.25625, 0.0, 0.08571428571428572, 0.09107142857142857]\n"
     ]
    }
   ],
   "source": [
    "print(maslowL)"
   ]
  },
  {
   "cell_type": "code",
   "execution_count": 225,
   "id": "2dee73ec",
   "metadata": {},
   "outputs": [],
   "source": [
    "def maslowHeuristicVal(lst):\n",
    "    return stats.mean(maslowL)"
   ]
  },
  {
   "cell_type": "code",
   "execution_count": 226,
   "id": "3c9f57b2",
   "metadata": {},
   "outputs": [],
   "source": [
    "masVal = maslowHeuristicVal(maslowL)"
   ]
  },
  {
   "cell_type": "code",
   "execution_count": 227,
   "id": "ec848a1c",
   "metadata": {},
   "outputs": [
    {
     "name": "stdout",
     "output_type": "stream",
     "text": [
      "0.20035714285714284\n"
     ]
    }
   ],
   "source": [
    "print(masVal)"
   ]
  }
 ],
 "metadata": {
  "kernelspec": {
   "display_name": "Python 3 (ipykernel)",
   "language": "python",
   "name": "python3"
  },
  "language_info": {
   "codemirror_mode": {
    "name": "ipython",
    "version": 3
   },
   "file_extension": ".py",
   "mimetype": "text/x-python",
   "name": "python",
   "nbconvert_exporter": "python",
   "pygments_lexer": "ipython3",
   "version": "3.8.11"
  }
 },
 "nbformat": 4,
 "nbformat_minor": 5
}
