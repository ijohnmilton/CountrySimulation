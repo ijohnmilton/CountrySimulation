{
 "cells": [
  {
   "cell_type": "markdown",
   "id": "2b72565f",
   "metadata": {},
   "source": [
    "## Handle Imports"
   ]
  },
  {
   "cell_type": "code",
   "execution_count": 6,
   "id": "2f3a1795",
   "metadata": {},
   "outputs": [],
   "source": [
    "import numpy as np\n",
    "import pandas as pd\n",
    "import heapq as pq\n",
    "import csv\n",
    "import statistics as stats"
   ]
  },
  {
   "cell_type": "markdown",
   "id": "01965101",
   "metadata": {},
   "source": [
    "# Upload methods"
   ]
  },
  {
   "cell_type": "markdown",
   "id": "60ca0d91",
   "metadata": {},
   "source": [
    "### Load Countries"
   ]
  },
  {
   "cell_type": "code",
   "execution_count": 2,
   "id": "d76f8ebc",
   "metadata": {},
   "outputs": [],
   "source": [
    "def load_countries() -> dict:\n",
    "    countries = {}\n",
    "\n",
    "    with open(\"countries.csv\") as file:\n",
    "        reader = csv.DictReader(file)\n",
    "        for row in reader:\n",
    "            key = row[\"Country\"]\n",
    "            countries[key] = {name: float(value) for name, value in row.items() if name != \"Country\"}\n",
    "\n",
    "    return countries"
   ]
  },
  {
   "cell_type": "markdown",
   "id": "11e0f18d",
   "metadata": {},
   "source": [
    "### Load Resources"
   ]
  },
  {
   "cell_type": "code",
   "execution_count": 3,
   "id": "d6632bad",
   "metadata": {},
   "outputs": [],
   "source": [
    "def load_resources() -> dict:\n",
    "    resources = {}\n",
    "\n",
    "    with open(\"resources.csv\") as file:\n",
    "        reader = csv.DictReader(file)\n",
    "        for row in reader:\n",
    "            key = row[\"Resource\"]\n",
    "            resources[key] = {name: float(value) if name == \"Weight\" else value for name, value in row.items() if name != \"Resource\"}\n",
    "\n",
    "    return resources"
   ]
  },
  {
   "cell_type": "markdown",
   "id": "ee3e0d9c",
   "metadata": {},
   "source": [
    "## Upload Countries"
   ]
  },
  {
   "cell_type": "code",
   "execution_count": 4,
   "id": "71b57a3f",
   "metadata": {},
   "outputs": [],
   "source": [
    "countryList = load_countries()"
   ]
  },
  {
   "cell_type": "code",
   "execution_count": 5,
   "id": "19100c90",
   "metadata": {},
   "outputs": [],
   "source": [
    "resourceList = load_resources()"
   ]
  },
  {
   "cell_type": "markdown",
   "id": "58c25f3e",
   "metadata": {},
   "source": [
    "### Set to Pandas Dataframe"
   ]
  },
  {
   "cell_type": "code",
   "execution_count": 6,
   "id": "bb1a9a26",
   "metadata": {},
   "outputs": [],
   "source": [
    "country_df = pd.DataFrame(countryList).transpose()"
   ]
  },
  {
   "cell_type": "code",
   "execution_count": 7,
   "id": "e6e2b163",
   "metadata": {},
   "outputs": [],
   "source": [
    "root_country_df = country_df"
   ]
  },
  {
   "cell_type": "code",
   "execution_count": 8,
   "id": "e0bccdd6",
   "metadata": {},
   "outputs": [],
   "source": [
    "resource_df = pd.DataFrame(resourceList).transpose()"
   ]
  },
  {
   "cell_type": "markdown",
   "id": "08f017ff",
   "metadata": {},
   "source": [
    "# State Quality Function"
   ]
  },
  {
   "cell_type": "markdown",
   "id": "576de3cf",
   "metadata": {},
   "source": [
    "### Check Country List"
   ]
  },
  {
   "cell_type": "code",
   "execution_count": 9,
   "id": "8efccdda",
   "metadata": {},
   "outputs": [
    {
     "name": "stdout",
     "output_type": "stream",
     "text": [
      "Atlantis -> {'population': 20.0, 'food': 100.0, 'water': 300.0, 'land': 50.0, 'timber': 100.0, 'housing': 25.0, 'metallic element': 300.0, 'metallic alloy': 900.0, 'electronics': 400.0, 'potential fossil energy': 500.0, 'potential fossil usable': 250.0, 'community buildings': 200.0, 'jobs': 40.0, 'high school education': 20.0, 'college education': 12.0, 'universities': 4.0, 'nobel prizes': 3.0, 'marriages': 10.0, 'children': 10.0, 'renewable energy': 100.0, 'food waste': -5.0, 'water waste': -20.0, 'land waste': -20.0, 'timber waste': -50.0, 'housing waste': -5.0, 'metallicAlloy waste': -10.0, 'electronics waste': -14.0, 'potential fossil energy waste': -20.0, 'renewable energy waste': -1.0}\n",
      "Dinotopoia -> {'population': 15.0, 'food': 100.0, 'water': 100.0, 'land': 200.0, 'timber': 300.0, 'housing': 10.0, 'metallic element': 400.0, 'metallic alloy': 100.0, 'electronics': 200.0, 'potential fossil energy': 1000.0, 'potential fossil usable': 100.0, 'community buildings': 20.0, 'jobs': 30.0, 'high school education': 10.0, 'college education': 5.0, 'universities': 2.0, 'nobel prizes': 5.0, 'marriages': 15.0, 'children': 7.0, 'renewable energy': 200.0, 'food waste': -2.0, 'water waste': -400.0, 'land waste': -80.0, 'timber waste': -20.0, 'housing waste': -20.0, 'metallicAlloy waste': -20.0, 'electronics waste': -23.0, 'potential fossil energy waste': -20.0, 'renewable energy waste': -5.0}\n",
      "Erewhon -> {'population': 21.0, 'food': 300.0, 'water': 300.0, 'land': 400.0, 'timber': 100.0, 'housing': 100.0, 'metallic element': 30.0, 'metallic alloy': 2600.0, 'electronics': 100.0, 'potential fossil energy': 2000.0, 'potential fossil usable': 2000.0, 'community buildings': 30.0, 'jobs': 30.0, 'high school education': 20.0, 'college education': 15.0, 'universities': 8.0, 'nobel prizes': 2.0, 'marriages': 15.0, 'children': 10.0, 'renewable energy': 100.0, 'food waste': -10.0, 'water waste': -30.0, 'land waste': -20.0, 'timber waste': -100.0, 'housing waste': -120.0, 'metallicAlloy waste': -30.0, 'electronics waste': -20.0, 'potential fossil energy waste': -10.0, 'renewable energy waste': -3.0}\n",
      "King's Landing -> {'population': 80.0, 'food': 200.0, 'water': 300.0, 'land': 300.0, 'timber': 200.0, 'housing': 200.0, 'metallic element': 100.0, 'metallic alloy': 100.0, 'electronics': 200.0, 'potential fossil energy': 2000.0, 'potential fossil usable': 200.0, 'community buildings': 100.0, 'jobs': 100.0, 'high school education': 60.0, 'college education': 30.0, 'universities': 7.0, 'nobel prizes': 1.0, 'marriages': 60.0, 'children': 40.0, 'renewable energy': 150.0, 'food waste': -3.0, 'water waste': -200.0, 'land waste': -10.0, 'timber waste': -20.0, 'housing waste': -23.0, 'metallicAlloy waste': -98.0, 'electronics waste': -100.0, 'potential fossil energy waste': -25.0, 'renewable energy waste': -20.0}\n",
      "The Vale -> {'population': 43.0, 'food': 250.0, 'water': 20.0, 'land': 100.0, 'timber': 54.0, 'housing': 300.0, 'metallic element': 100.0, 'metallic alloy': 320.0, 'electronics': 100.0, 'potential fossil energy': 1000.0, 'potential fossil usable': 500.0, 'community buildings': 250.0, 'jobs': 20.0, 'high school education': 20.0, 'college education': 18.0, 'universities': 5.0, 'nobel prizes': 3.0, 'marriages': 40.0, 'children': 20.0, 'renewable energy': 80.0, 'food waste': -10.0, 'water waste': -100.0, 'land waste': -50.0, 'timber waste': -45.0, 'housing waste': -50.0, 'metallicAlloy waste': -10.0, 'electronics waste': -20.0, 'potential fossil energy waste': -100.0, 'renewable energy waste': -18.0}\n"
     ]
    }
   ],
   "source": [
    "for key in countryList:\n",
    "    print(key, '->', countryList[key])"
   ]
  },
  {
   "cell_type": "markdown",
   "id": "922d30ad",
   "metadata": {},
   "source": [
    "### Set Maslow Constants"
   ]
  },
  {
   "cell_type": "code",
   "execution_count": 10,
   "id": "fa6cbae7",
   "metadata": {},
   "outputs": [],
   "source": [
    "#different resource levels\n",
    "levelOneResources = {'food': 1, 'water': 1}\n",
    "levelTwoResources = {'housing': 1, 'timber': 1, 'metallic alloy': 0.5, 'electronics': 3, 'potential fossil energy': 1} \n",
    "levelThreeResources = {'community buildings': 0.05, 'jobs': 1, 'high school education': 1, 'college education': 1, 'universities': 1, 'marriages': 1} \n",
    "levelFourResources = {'children': 2.5, 'renewable energy': 1}\n",
    "levelFiveResources = {'food waste': -1, 'water waste': -1, 'land waste': -1, 'timber waste': -1, 'nobel prizes': 0.02}\n",
    "\n",
    "#list of levels\n",
    "levList = [levelOneResources, levelTwoResources, levelThreeResources, levelFourResources, levelFiveResources]"
   ]
  },
  {
   "cell_type": "code",
   "execution_count": 11,
   "id": "7d29ac49",
   "metadata": {},
   "outputs": [
    {
     "name": "stdout",
     "output_type": "stream",
     "text": [
      "[{'food': 1, 'water': 1}, {'housing': 1, 'timber': 1, 'metallic alloy': 0.5, 'electronics': 3, 'potential fossil energy': 1}, {'community buildings': 0.05, 'jobs': 1, 'high school education': 1, 'college education': 1, 'universities': 1, 'marriages': 1}, {'children': 2.5, 'renewable energy': 1}, {'food waste': -1, 'water waste': -1, 'land waste': -1, 'timber waste': -1, 'nobel prizes': 0.02}]\n"
     ]
    }
   ],
   "source": [
    "print(levList)"
   ]
  },
  {
   "cell_type": "markdown",
   "id": "097e04dd",
   "metadata": {},
   "source": [
    "### Level Function"
   ]
  },
  {
   "cell_type": "code",
   "execution_count": 12,
   "id": "59c85652",
   "metadata": {},
   "outputs": [],
   "source": [
    "#pandas version\n",
    "def leveldf(df, country, level, resources):\n",
    "    \n",
    "    levelSat = True\n",
    "    mult = []\n",
    "    average = 0\n",
    "\n",
    "    for key, value in levList[level-1].items():\n",
    "        countryVal = df.loc[country, key]\n",
    "        mult.append(countryVal/value)\n",
    "        if countryVal < value:\n",
    "            levelSat = False\n",
    "    \n",
    "    average = stats.mean(mult)\n",
    "    \n",
    "    if not levelSat:\n",
    "        average = average/4\n",
    "        \n",
    "    return average"
   ]
  },
  {
   "cell_type": "code",
   "execution_count": 13,
   "id": "578701e9",
   "metadata": {},
   "outputs": [
    {
     "data": {
      "text/plain": [
       "200.0"
      ]
     },
     "execution_count": 13,
     "metadata": {},
     "output_type": "execute_result"
    }
   ],
   "source": [
    "num = leveldf(country_df, 'Atlantis', 1, levList)\n",
    "num"
   ]
  },
  {
   "cell_type": "markdown",
   "id": "e4351674",
   "metadata": {},
   "source": [
    "## Maslow Function"
   ]
  },
  {
   "cell_type": "code",
   "execution_count": 14,
   "id": "37e3e768",
   "metadata": {},
   "outputs": [],
   "source": [
    "def maslow(df, country, level):\n",
    "    \n",
    "    maslowList = []\n",
    "    \n",
    "    ## normalize\n",
    "    norm_df = df.copy()\n",
    "    \n",
    "    for row in range(len(norm_df)):\n",
    "        \n",
    "        values = norm_df.iloc[row]\n",
    "        popVal = values[0]\n",
    "        \n",
    "        for vals in range(1, len(values)):\n",
    "            values[vals] = values[vals]/popVal\n",
    "    \n",
    "    # maslow function\n",
    "    for num in range(1, level+1):\n",
    "        levValue = leveldf(norm_df, country, num, levList)\n",
    "        maslowList.append(levValue)\n",
    "            \n",
    "    return maslowList"
   ]
  },
  {
   "cell_type": "code",
   "execution_count": 15,
   "id": "42dc66cf",
   "metadata": {},
   "outputs": [],
   "source": [
    "maslowL = maslow(country_df, 'The Vale', 5)"
   ]
  },
  {
   "cell_type": "code",
   "execution_count": 16,
   "id": "2b3506cf",
   "metadata": {},
   "outputs": [
    {
     "name": "stdout",
     "output_type": "stream",
     "text": [
      "[0.7848837209302325, 2.357364341085271, 4.944767441860465, 0.2558139534883721, 0.4127906976744186]\n"
     ]
    }
   ],
   "source": [
    "print(maslowL)"
   ]
  },
  {
   "cell_type": "code",
   "execution_count": 17,
   "id": "2dee73ec",
   "metadata": {},
   "outputs": [],
   "source": [
    "def maslowHeuristicVal(lst):\n",
    "    return stats.mean(maslowL)"
   ]
  },
  {
   "cell_type": "code",
   "execution_count": 18,
   "id": "3c9f57b2",
   "metadata": {},
   "outputs": [],
   "source": [
    "masVal = maslowHeuristicVal(maslowL)"
   ]
  },
  {
   "cell_type": "code",
   "execution_count": 19,
   "id": "ec848a1c",
   "metadata": {},
   "outputs": [
    {
     "name": "stdout",
     "output_type": "stream",
     "text": [
      "1.7511240310077518\n"
     ]
    }
   ],
   "source": [
    "print(masVal)"
   ]
  },
  {
   "cell_type": "markdown",
   "id": "b920fb72",
   "metadata": {},
   "source": [
    "# Transform Templates"
   ]
  },
  {
   "cell_type": "code",
   "execution_count": 20,
   "id": "8d1c6d71",
   "metadata": {},
   "outputs": [],
   "source": [
    "HOUSING = [{'land': 1, 'population': 5, 'water': 5, 'metallic element': 1, 'timber': 5, 'metallic alloy': 3, 'potential fossil usable': 5}, {'housing': 1, 'housing waste': 1, 'timber waste': 1, 'population': 5, 'water': 4}]\n",
    "ALLOYS = [{'population': 1, 'metallic element': 2, 'water': 3, 'potential fossil usable': 3}, {'population': 1, 'metallic alloy': 1, 'metallicAlloy waste': 1, 'water': 2}]\n",
    "ELECTRONICS = [{'population': 1, 'metallic element': 3, 'metallic alloy': 2, 'water': 3, 'potential fossil usable': 3}, {'population': 1, 'electronics': 2, 'electronics waste': 1, 'water': 2}]\n",
    "FARM = [{'population': 1, 'land' : 1, 'water': 3}, {'food': 5, 'population': 1}]\n",
    "LOGGING = [{'population': 3, 'potential fossil usable': 3}, {'population': 3, 'timber': 5}]\n",
    "PURIFY_WATER = [{'population': 3, 'potential fossil usable': 3}, {'population': 3, 'water': 5}]\n",
    "FOSSIL_ENERGY = [{'population': 5, 'potential fossil energy': 2}, {'population': 5, 'potential fossil usable': 1, 'potential fossil energy waste': 1}]\n",
    "RENEWABLE_ENERGY = [{'population': 5, 'potential fossil usable': 3}, {'population': 5, 'renewable energy': 1, 'renewable energy waste': 1}]\n",
    "COMMUNITY_BUILDING = [{'land': 1, 'population': 10, 'water': 5, 'metallic element': 3, 'timber': 8, 'metallic alloy': 5, 'potential fossil usable': 5}, {'community buildings': 1, 'housing waste': 1, 'timber waste': 1, 'metallicAlloy waste': 1, 'population': 10, 'water': 4}]\n",
    "UNIVERSITY = [{'land': 1, 'population': 50, 'water': 5, 'metallic element': 5, 'timber': 10, 'metallic alloy': 5, 'potential fossil usable': 5}, {'universities': 1, 'population': 50, 'water': 3, 'timber waste': 1, 'metallicAlloy waste': 1}]\n",
    "JOB_HS = [{'population': 25, 'high school education': 1}, {'population': 25, 'jobs': 1}]\n",
    "JOB_C = [{'population': 50, 'college education': 1}, {'population': 50, 'jobs': 1}]\n",
    "HIGHSCHOOL_ED = [{'population': 15, 'housing': 1, 'children': 1}, {'population': 16, 'housing': 1, 'high school education': 1}]\n",
    "COLLEGE_ED = [{'population': 50, 'housing': 1, 'universities': 1, 'high school education': 1}, {'population': 50, 'housing': 1, 'universities': 1, 'college education': 1}]\n",
    "MARRIAGE = [{'population': 2, 'housing': 1}, {'population': 2, 'housing': 1, 'marriages': 1}]\n",
    "CHILDREN = [{'marriages': 1, 'housing': 1}, {'marriages': 1, 'housing': 1, 'children': 2}]\n",
    "NOBEL_PRIZE = [{'population': 1, 'universities': 10, 'college education': 50, 'potential fossil usable': 10}, {'population': 1, 'universities': 10, 'college education': 50, 'nobel prizes': 1}]\n",
    "\n",
    "ALL_TEMPLATES_TRANSFORM = [HOUSING, ALLOYS, ELECTRONICS, FARM, LOGGING, PURIFY_WATER, FOSSIL_ENERGY, \n",
    "                          RENEWABLE_ENERGY, COMMUNITY_BUILDING, UNIVERSITY, JOB_HS, JOB_C, HIGHSCHOOL_ED,\n",
    "                          COLLEGE_ED, MARRIAGE, CHILDREN, NOBEL_PRIZE]"
   ]
  },
  {
   "cell_type": "markdown",
   "id": "d166623f",
   "metadata": {},
   "source": [
    "# Transform Function"
   ]
  },
  {
   "cell_type": "code",
   "execution_count": 21,
   "id": "c8146ade",
   "metadata": {},
   "outputs": [],
   "source": [
    "def transform(df, country, transform_template):\n",
    "    \n",
    "    allowed = True\n",
    "    \n",
    "    #check if transform is possible\n",
    "    for key in transform_template[0]:\n",
    "        val = transform_template[0][key]\n",
    "        if(df.loc[country, key] - val < 0):\n",
    "            allowed = False\n",
    "    \n",
    "    if(allowed):\n",
    "        #remove input resoures\n",
    "        for key in transform_template[0]:\n",
    "            val = transform_template[0][key]\n",
    "            df.loc[country, key] -= val\n",
    "\n",
    "        #add output resources\n",
    "        for key in transform_template[1]:\n",
    "            val = transform_template[1][key]\n",
    "            df.loc[country, key] += val"
   ]
  },
  {
   "cell_type": "markdown",
   "id": "b22dd43c",
   "metadata": {},
   "source": [
    "# Transform Test Case"
   ]
  },
  {
   "cell_type": "code",
   "execution_count": 22,
   "id": "0bfe252e",
   "metadata": {},
   "outputs": [
    {
     "data": {
      "text/html": [
       "<div>\n",
       "<style scoped>\n",
       "    .dataframe tbody tr th:only-of-type {\n",
       "        vertical-align: middle;\n",
       "    }\n",
       "\n",
       "    .dataframe tbody tr th {\n",
       "        vertical-align: top;\n",
       "    }\n",
       "\n",
       "    .dataframe thead th {\n",
       "        text-align: right;\n",
       "    }\n",
       "</style>\n",
       "<table border=\"1\" class=\"dataframe\">\n",
       "  <thead>\n",
       "    <tr style=\"text-align: right;\">\n",
       "      <th></th>\n",
       "      <th>population</th>\n",
       "      <th>food</th>\n",
       "      <th>water</th>\n",
       "      <th>land</th>\n",
       "      <th>timber</th>\n",
       "      <th>housing</th>\n",
       "      <th>metallic element</th>\n",
       "      <th>metallic alloy</th>\n",
       "      <th>electronics</th>\n",
       "      <th>potential fossil energy</th>\n",
       "      <th>...</th>\n",
       "      <th>renewable energy</th>\n",
       "      <th>food waste</th>\n",
       "      <th>water waste</th>\n",
       "      <th>land waste</th>\n",
       "      <th>timber waste</th>\n",
       "      <th>housing waste</th>\n",
       "      <th>metallicAlloy waste</th>\n",
       "      <th>electronics waste</th>\n",
       "      <th>potential fossil energy waste</th>\n",
       "      <th>renewable energy waste</th>\n",
       "    </tr>\n",
       "  </thead>\n",
       "  <tbody>\n",
       "    <tr>\n",
       "      <th>Atlantis</th>\n",
       "      <td>20.0</td>\n",
       "      <td>100.0</td>\n",
       "      <td>300.0</td>\n",
       "      <td>50.0</td>\n",
       "      <td>100.0</td>\n",
       "      <td>25.0</td>\n",
       "      <td>300.0</td>\n",
       "      <td>900.0</td>\n",
       "      <td>400.0</td>\n",
       "      <td>500.0</td>\n",
       "      <td>...</td>\n",
       "      <td>100.0</td>\n",
       "      <td>-5.0</td>\n",
       "      <td>-20.0</td>\n",
       "      <td>-20.0</td>\n",
       "      <td>-50.0</td>\n",
       "      <td>-5.0</td>\n",
       "      <td>-10.0</td>\n",
       "      <td>-14.0</td>\n",
       "      <td>-20.0</td>\n",
       "      <td>-1.0</td>\n",
       "    </tr>\n",
       "    <tr>\n",
       "      <th>Dinotopoia</th>\n",
       "      <td>15.0</td>\n",
       "      <td>100.0</td>\n",
       "      <td>100.0</td>\n",
       "      <td>200.0</td>\n",
       "      <td>300.0</td>\n",
       "      <td>10.0</td>\n",
       "      <td>400.0</td>\n",
       "      <td>100.0</td>\n",
       "      <td>200.0</td>\n",
       "      <td>1000.0</td>\n",
       "      <td>...</td>\n",
       "      <td>200.0</td>\n",
       "      <td>-2.0</td>\n",
       "      <td>-400.0</td>\n",
       "      <td>-80.0</td>\n",
       "      <td>-20.0</td>\n",
       "      <td>-20.0</td>\n",
       "      <td>-20.0</td>\n",
       "      <td>-23.0</td>\n",
       "      <td>-20.0</td>\n",
       "      <td>-5.0</td>\n",
       "    </tr>\n",
       "    <tr>\n",
       "      <th>Erewhon</th>\n",
       "      <td>21.0</td>\n",
       "      <td>300.0</td>\n",
       "      <td>300.0</td>\n",
       "      <td>400.0</td>\n",
       "      <td>100.0</td>\n",
       "      <td>100.0</td>\n",
       "      <td>30.0</td>\n",
       "      <td>2600.0</td>\n",
       "      <td>100.0</td>\n",
       "      <td>2000.0</td>\n",
       "      <td>...</td>\n",
       "      <td>100.0</td>\n",
       "      <td>-10.0</td>\n",
       "      <td>-30.0</td>\n",
       "      <td>-20.0</td>\n",
       "      <td>-100.0</td>\n",
       "      <td>-120.0</td>\n",
       "      <td>-30.0</td>\n",
       "      <td>-20.0</td>\n",
       "      <td>-10.0</td>\n",
       "      <td>-3.0</td>\n",
       "    </tr>\n",
       "    <tr>\n",
       "      <th>King's Landing</th>\n",
       "      <td>80.0</td>\n",
       "      <td>200.0</td>\n",
       "      <td>300.0</td>\n",
       "      <td>300.0</td>\n",
       "      <td>200.0</td>\n",
       "      <td>200.0</td>\n",
       "      <td>100.0</td>\n",
       "      <td>100.0</td>\n",
       "      <td>200.0</td>\n",
       "      <td>2000.0</td>\n",
       "      <td>...</td>\n",
       "      <td>150.0</td>\n",
       "      <td>-3.0</td>\n",
       "      <td>-200.0</td>\n",
       "      <td>-10.0</td>\n",
       "      <td>-20.0</td>\n",
       "      <td>-23.0</td>\n",
       "      <td>-98.0</td>\n",
       "      <td>-100.0</td>\n",
       "      <td>-25.0</td>\n",
       "      <td>-20.0</td>\n",
       "    </tr>\n",
       "    <tr>\n",
       "      <th>The Vale</th>\n",
       "      <td>43.0</td>\n",
       "      <td>250.0</td>\n",
       "      <td>20.0</td>\n",
       "      <td>100.0</td>\n",
       "      <td>54.0</td>\n",
       "      <td>300.0</td>\n",
       "      <td>100.0</td>\n",
       "      <td>320.0</td>\n",
       "      <td>100.0</td>\n",
       "      <td>1000.0</td>\n",
       "      <td>...</td>\n",
       "      <td>80.0</td>\n",
       "      <td>-10.0</td>\n",
       "      <td>-100.0</td>\n",
       "      <td>-50.0</td>\n",
       "      <td>-45.0</td>\n",
       "      <td>-50.0</td>\n",
       "      <td>-10.0</td>\n",
       "      <td>-20.0</td>\n",
       "      <td>-100.0</td>\n",
       "      <td>-18.0</td>\n",
       "    </tr>\n",
       "  </tbody>\n",
       "</table>\n",
       "<p>5 rows × 29 columns</p>\n",
       "</div>"
      ],
      "text/plain": [
       "                population   food  water   land  timber  housing  \\\n",
       "Atlantis              20.0  100.0  300.0   50.0   100.0     25.0   \n",
       "Dinotopoia            15.0  100.0  100.0  200.0   300.0     10.0   \n",
       "Erewhon               21.0  300.0  300.0  400.0   100.0    100.0   \n",
       "King's Landing        80.0  200.0  300.0  300.0   200.0    200.0   \n",
       "The Vale              43.0  250.0   20.0  100.0    54.0    300.0   \n",
       "\n",
       "                metallic element  metallic alloy  electronics  \\\n",
       "Atlantis                   300.0           900.0        400.0   \n",
       "Dinotopoia                 400.0           100.0        200.0   \n",
       "Erewhon                     30.0          2600.0        100.0   \n",
       "King's Landing             100.0           100.0        200.0   \n",
       "The Vale                   100.0           320.0        100.0   \n",
       "\n",
       "                potential fossil energy  ...  renewable energy  food waste  \\\n",
       "Atlantis                          500.0  ...             100.0        -5.0   \n",
       "Dinotopoia                       1000.0  ...             200.0        -2.0   \n",
       "Erewhon                          2000.0  ...             100.0       -10.0   \n",
       "King's Landing                   2000.0  ...             150.0        -3.0   \n",
       "The Vale                         1000.0  ...              80.0       -10.0   \n",
       "\n",
       "                water waste  land waste  timber waste  housing waste  \\\n",
       "Atlantis              -20.0       -20.0         -50.0           -5.0   \n",
       "Dinotopoia           -400.0       -80.0         -20.0          -20.0   \n",
       "Erewhon               -30.0       -20.0        -100.0         -120.0   \n",
       "King's Landing       -200.0       -10.0         -20.0          -23.0   \n",
       "The Vale             -100.0       -50.0         -45.0          -50.0   \n",
       "\n",
       "                metallicAlloy waste  electronics waste  \\\n",
       "Atlantis                      -10.0              -14.0   \n",
       "Dinotopoia                    -20.0              -23.0   \n",
       "Erewhon                       -30.0              -20.0   \n",
       "King's Landing                -98.0             -100.0   \n",
       "The Vale                      -10.0              -20.0   \n",
       "\n",
       "                potential fossil energy waste  renewable energy waste  \n",
       "Atlantis                                -20.0                    -1.0  \n",
       "Dinotopoia                              -20.0                    -5.0  \n",
       "Erewhon                                 -10.0                    -3.0  \n",
       "King's Landing                          -25.0                   -20.0  \n",
       "The Vale                               -100.0                   -18.0  \n",
       "\n",
       "[5 rows x 29 columns]"
      ]
     },
     "execution_count": 22,
     "metadata": {},
     "output_type": "execute_result"
    }
   ],
   "source": [
    "country_df"
   ]
  },
  {
   "cell_type": "code",
   "execution_count": 23,
   "id": "6c5444d8",
   "metadata": {},
   "outputs": [],
   "source": [
    "COUNTRY_NAMES = country_df.index.to_list()"
   ]
  },
  {
   "cell_type": "code",
   "execution_count": 24,
   "id": "401db6b3",
   "metadata": {},
   "outputs": [
    {
     "data": {
      "text/plain": [
       "['Atlantis', 'Dinotopoia', 'Erewhon', \"King's Landing\", 'The Vale']"
      ]
     },
     "execution_count": 24,
     "metadata": {},
     "output_type": "execute_result"
    }
   ],
   "source": [
    "COUNTRY_NAMES"
   ]
  },
  {
   "cell_type": "code",
   "execution_count": 25,
   "id": "be453367",
   "metadata": {},
   "outputs": [],
   "source": [
    "transform(country_df, 'Atlantis', FARM)"
   ]
  },
  {
   "cell_type": "code",
   "execution_count": 26,
   "id": "b8ddbbd6",
   "metadata": {},
   "outputs": [
    {
     "data": {
      "text/html": [
       "<div>\n",
       "<style scoped>\n",
       "    .dataframe tbody tr th:only-of-type {\n",
       "        vertical-align: middle;\n",
       "    }\n",
       "\n",
       "    .dataframe tbody tr th {\n",
       "        vertical-align: top;\n",
       "    }\n",
       "\n",
       "    .dataframe thead th {\n",
       "        text-align: right;\n",
       "    }\n",
       "</style>\n",
       "<table border=\"1\" class=\"dataframe\">\n",
       "  <thead>\n",
       "    <tr style=\"text-align: right;\">\n",
       "      <th></th>\n",
       "      <th>population</th>\n",
       "      <th>food</th>\n",
       "      <th>water</th>\n",
       "      <th>land</th>\n",
       "      <th>timber</th>\n",
       "      <th>housing</th>\n",
       "      <th>metallic element</th>\n",
       "      <th>metallic alloy</th>\n",
       "      <th>electronics</th>\n",
       "      <th>potential fossil energy</th>\n",
       "      <th>...</th>\n",
       "      <th>renewable energy</th>\n",
       "      <th>food waste</th>\n",
       "      <th>water waste</th>\n",
       "      <th>land waste</th>\n",
       "      <th>timber waste</th>\n",
       "      <th>housing waste</th>\n",
       "      <th>metallicAlloy waste</th>\n",
       "      <th>electronics waste</th>\n",
       "      <th>potential fossil energy waste</th>\n",
       "      <th>renewable energy waste</th>\n",
       "    </tr>\n",
       "  </thead>\n",
       "  <tbody>\n",
       "    <tr>\n",
       "      <th>Atlantis</th>\n",
       "      <td>20.0</td>\n",
       "      <td>105.0</td>\n",
       "      <td>297.0</td>\n",
       "      <td>49.0</td>\n",
       "      <td>100.0</td>\n",
       "      <td>25.0</td>\n",
       "      <td>300.0</td>\n",
       "      <td>900.0</td>\n",
       "      <td>400.0</td>\n",
       "      <td>500.0</td>\n",
       "      <td>...</td>\n",
       "      <td>100.0</td>\n",
       "      <td>-5.0</td>\n",
       "      <td>-20.0</td>\n",
       "      <td>-20.0</td>\n",
       "      <td>-50.0</td>\n",
       "      <td>-5.0</td>\n",
       "      <td>-10.0</td>\n",
       "      <td>-14.0</td>\n",
       "      <td>-20.0</td>\n",
       "      <td>-1.0</td>\n",
       "    </tr>\n",
       "    <tr>\n",
       "      <th>Dinotopoia</th>\n",
       "      <td>15.0</td>\n",
       "      <td>100.0</td>\n",
       "      <td>100.0</td>\n",
       "      <td>200.0</td>\n",
       "      <td>300.0</td>\n",
       "      <td>10.0</td>\n",
       "      <td>400.0</td>\n",
       "      <td>100.0</td>\n",
       "      <td>200.0</td>\n",
       "      <td>1000.0</td>\n",
       "      <td>...</td>\n",
       "      <td>200.0</td>\n",
       "      <td>-2.0</td>\n",
       "      <td>-400.0</td>\n",
       "      <td>-80.0</td>\n",
       "      <td>-20.0</td>\n",
       "      <td>-20.0</td>\n",
       "      <td>-20.0</td>\n",
       "      <td>-23.0</td>\n",
       "      <td>-20.0</td>\n",
       "      <td>-5.0</td>\n",
       "    </tr>\n",
       "    <tr>\n",
       "      <th>Erewhon</th>\n",
       "      <td>21.0</td>\n",
       "      <td>300.0</td>\n",
       "      <td>300.0</td>\n",
       "      <td>400.0</td>\n",
       "      <td>100.0</td>\n",
       "      <td>100.0</td>\n",
       "      <td>30.0</td>\n",
       "      <td>2600.0</td>\n",
       "      <td>100.0</td>\n",
       "      <td>2000.0</td>\n",
       "      <td>...</td>\n",
       "      <td>100.0</td>\n",
       "      <td>-10.0</td>\n",
       "      <td>-30.0</td>\n",
       "      <td>-20.0</td>\n",
       "      <td>-100.0</td>\n",
       "      <td>-120.0</td>\n",
       "      <td>-30.0</td>\n",
       "      <td>-20.0</td>\n",
       "      <td>-10.0</td>\n",
       "      <td>-3.0</td>\n",
       "    </tr>\n",
       "    <tr>\n",
       "      <th>King's Landing</th>\n",
       "      <td>80.0</td>\n",
       "      <td>200.0</td>\n",
       "      <td>300.0</td>\n",
       "      <td>300.0</td>\n",
       "      <td>200.0</td>\n",
       "      <td>200.0</td>\n",
       "      <td>100.0</td>\n",
       "      <td>100.0</td>\n",
       "      <td>200.0</td>\n",
       "      <td>2000.0</td>\n",
       "      <td>...</td>\n",
       "      <td>150.0</td>\n",
       "      <td>-3.0</td>\n",
       "      <td>-200.0</td>\n",
       "      <td>-10.0</td>\n",
       "      <td>-20.0</td>\n",
       "      <td>-23.0</td>\n",
       "      <td>-98.0</td>\n",
       "      <td>-100.0</td>\n",
       "      <td>-25.0</td>\n",
       "      <td>-20.0</td>\n",
       "    </tr>\n",
       "    <tr>\n",
       "      <th>The Vale</th>\n",
       "      <td>43.0</td>\n",
       "      <td>250.0</td>\n",
       "      <td>20.0</td>\n",
       "      <td>100.0</td>\n",
       "      <td>54.0</td>\n",
       "      <td>300.0</td>\n",
       "      <td>100.0</td>\n",
       "      <td>320.0</td>\n",
       "      <td>100.0</td>\n",
       "      <td>1000.0</td>\n",
       "      <td>...</td>\n",
       "      <td>80.0</td>\n",
       "      <td>-10.0</td>\n",
       "      <td>-100.0</td>\n",
       "      <td>-50.0</td>\n",
       "      <td>-45.0</td>\n",
       "      <td>-50.0</td>\n",
       "      <td>-10.0</td>\n",
       "      <td>-20.0</td>\n",
       "      <td>-100.0</td>\n",
       "      <td>-18.0</td>\n",
       "    </tr>\n",
       "  </tbody>\n",
       "</table>\n",
       "<p>5 rows × 29 columns</p>\n",
       "</div>"
      ],
      "text/plain": [
       "                population   food  water   land  timber  housing  \\\n",
       "Atlantis              20.0  105.0  297.0   49.0   100.0     25.0   \n",
       "Dinotopoia            15.0  100.0  100.0  200.0   300.0     10.0   \n",
       "Erewhon               21.0  300.0  300.0  400.0   100.0    100.0   \n",
       "King's Landing        80.0  200.0  300.0  300.0   200.0    200.0   \n",
       "The Vale              43.0  250.0   20.0  100.0    54.0    300.0   \n",
       "\n",
       "                metallic element  metallic alloy  electronics  \\\n",
       "Atlantis                   300.0           900.0        400.0   \n",
       "Dinotopoia                 400.0           100.0        200.0   \n",
       "Erewhon                     30.0          2600.0        100.0   \n",
       "King's Landing             100.0           100.0        200.0   \n",
       "The Vale                   100.0           320.0        100.0   \n",
       "\n",
       "                potential fossil energy  ...  renewable energy  food waste  \\\n",
       "Atlantis                          500.0  ...             100.0        -5.0   \n",
       "Dinotopoia                       1000.0  ...             200.0        -2.0   \n",
       "Erewhon                          2000.0  ...             100.0       -10.0   \n",
       "King's Landing                   2000.0  ...             150.0        -3.0   \n",
       "The Vale                         1000.0  ...              80.0       -10.0   \n",
       "\n",
       "                water waste  land waste  timber waste  housing waste  \\\n",
       "Atlantis              -20.0       -20.0         -50.0           -5.0   \n",
       "Dinotopoia           -400.0       -80.0         -20.0          -20.0   \n",
       "Erewhon               -30.0       -20.0        -100.0         -120.0   \n",
       "King's Landing       -200.0       -10.0         -20.0          -23.0   \n",
       "The Vale             -100.0       -50.0         -45.0          -50.0   \n",
       "\n",
       "                metallicAlloy waste  electronics waste  \\\n",
       "Atlantis                      -10.0              -14.0   \n",
       "Dinotopoia                    -20.0              -23.0   \n",
       "Erewhon                       -30.0              -20.0   \n",
       "King's Landing                -98.0             -100.0   \n",
       "The Vale                      -10.0              -20.0   \n",
       "\n",
       "                potential fossil energy waste  renewable energy waste  \n",
       "Atlantis                                -20.0                    -1.0  \n",
       "Dinotopoia                              -20.0                    -5.0  \n",
       "Erewhon                                 -10.0                    -3.0  \n",
       "King's Landing                          -25.0                   -20.0  \n",
       "The Vale                               -100.0                   -18.0  \n",
       "\n",
       "[5 rows x 29 columns]"
      ]
     },
     "execution_count": 26,
     "metadata": {},
     "output_type": "execute_result"
    }
   ],
   "source": [
    "country_df"
   ]
  },
  {
   "cell_type": "markdown",
   "id": "2355193d",
   "metadata": {
    "pycharm": {
     "name": "#%% md\n"
    }
   },
   "source": [
    "# Transfer Function Definition"
   ]
  },
  {
   "cell_type": "code",
   "execution_count": 27,
   "id": "28a5341f",
   "metadata": {
    "pycharm": {
     "name": "#%%\n"
    }
   },
   "outputs": [],
   "source": [
    "def transfer(df, country1, country2, transfer):\n",
    "\n",
    "    allowed = True\n",
    "\n",
    "    #check for validityy\n",
    "\n",
    "    for key in transfer:\n",
    "        val = transfer[key]\n",
    "        if (df.loc[country1,key] - val < 0):\n",
    "            allowed = False\n",
    "\n",
    "    if(allowed):\n",
    "        #remove resource from country 1\n",
    "        for key in transfer:\n",
    "            val = transfer[key]\n",
    "            df.loc[country1,key] -= val\n",
    "\n",
    "        #add resource to country 2\n",
    "        for key in transfer:\n",
    "            val = transfer[key]\n",
    "            df.loc[country2,key] += val\n",
    "\n"
   ]
  },
  {
   "cell_type": "markdown",
   "id": "9eab5c5f",
   "metadata": {
    "pycharm": {
     "name": "#%% md\n"
    }
   },
   "source": [
    "# Transfer Templates"
   ]
  },
  {
   "cell_type": "code",
   "execution_count": 28,
   "id": "89438129",
   "metadata": {
    "pycharm": {
     "name": "#%%\n"
    }
   },
   "outputs": [],
   "source": [
    "FOOD = {\"food\":5}\n",
    "WATER = {\"water\":5}\n",
    "TIMBER = {\"timber\":5}\n",
    "METALLIC_ELEMENT = {\"metallic element\":5}\n",
    "METALLIC_ALLOY = {\"metallic alloy\":5}\n",
    "ELECTRONICS_TRANSFER = {\"electronics\":5}\n",
    "POTENTIAL_FOSSIL_ENERGY = {\"potential fossil energy\":5}\n",
    "POTENTIAL_FOSSIL_USABLE = {\"potential fossil usable\":5}\n",
    "RENEWABLE_ENERGY_TRANSFER = {\"renewable energy\":5}\n",
    "\n",
    "ALL_TEMPLATES_TRANSFER = [FOOD,WATER,TIMBER,METALLIC_ELEMENT,METALLIC_ALLOY,ELECTRONICS_TRANSFER,\n",
    "                          POTENTIAL_FOSSIL_ENERGY,POTENTIAL_FOSSIL_USABLE,RENEWABLE_ENERGY_TRANSFER]"
   ]
  },
  {
   "cell_type": "markdown",
   "id": "e420f27d",
   "metadata": {
    "pycharm": {
     "name": "#%% md\n"
    }
   },
   "source": [
    "# Trade Function Definition"
   ]
  },
  {
   "cell_type": "code",
   "execution_count": 29,
   "id": "da4035e8",
   "metadata": {
    "pycharm": {
     "name": "#%%\n"
    }
   },
   "outputs": [],
   "source": [
    "def trade(df, country1, country2, transfer1, transfer2) -> bool:\n",
    "    # A trade deal between two countries country1 and country2\n",
    "    # for which country uses transfer1 and country2 uses transfer2\n",
    "    if transfer1 == transfer2:\n",
    "        return False\n",
    "    if transfer(df, country1, country2, transfer1):\n",
    "        if not transfer(df, country2, country1, transfer2):\n",
    "            transfer(df, country2, country1, transfer1)\n",
    "            return False\n",
    "        else:\n",
    "            return True\n",
    "    else:\n",
    "        return False"
   ]
  },
  {
   "cell_type": "markdown",
   "id": "294c373e",
   "metadata": {},
   "source": [
    "# Node Definition"
   ]
  },
  {
   "cell_type": "code",
   "execution_count": 30,
   "id": "55a2442c",
   "metadata": {},
   "outputs": [],
   "source": [
    "class Node:\n",
    "    def __init__(self, state_quality, exp_util, sched, countrydf):\n",
    "        self.state_quality = state_quality\n",
    "        self.exp_util = exp_util\n",
    "        self.sched = sched\n",
    "        self.countrydf = countrydf\n",
    "    def getSqual(self):\n",
    "        return self.squal\n",
    "    def getExutil(self):\n",
    "        return self.exutil\n",
    "    def getSched(self):\n",
    "        return self.sched\n",
    "    def getCountrydf(self):\n",
    "        return self.countrydf"
   ]
  },
  {
   "cell_type": "markdown",
   "id": "f2e8d21d",
   "metadata": {},
   "source": [
    "# Bounded Priority Queue Definition"
   ]
  },
  {
   "cell_type": "code",
   "execution_count": 17,
   "id": "82c4fa10",
   "metadata": {},
   "outputs": [],
   "source": [
    "class BoundedPriorityQueue:\n",
    "    def __init__(self, bound=1):\n",
    "        self.bound = bound\n",
    "        self.queue = list()\n",
    "    def push(self, priority, item):\n",
    "        if len(self.queue) == self.bound:\n",
    "            pq.heappushpop(self.queue, (priority, item))\n",
    "        else:\n",
    "            pq.heappush(self.queue, (priority, item))\n",
    "    def pop(self):\n",
    "        return pq.heappop(self.queue)[-1]\n",
    "    def clear(self):\n",
    "        self.queue.clear()\n",
    "    def len(self):\n",
    "        return len(self.queue)"
   ]
  },
  {
   "cell_type": "markdown",
   "id": "e394ce79",
   "metadata": {},
   "source": [
    "## Generate Succcessors"
   ]
  },
  {
   "cell_type": "code",
   "execution_count": 32,
   "id": "d77b49da",
   "metadata": {},
   "outputs": [],
   "source": [
    "def generate_successors(parentNode, my_country):\n",
    "    \n",
    "    successors = BoundedPriorityQueue()\n",
    "    prevSched = parentNode.getSched()\n",
    "    \n",
    "    for resource in ALL_TEMPLATES_TRANSFORM:\n",
    "        \n",
    "        new_df = parentNode.getCountrydf()\n",
    "        \n",
    "        if transform(new_df, my_country, resource):\n",
    "            state_qual = maslowHeuristicVal(maslow(new_df, my_country, 5))\n",
    "            new_state = Node(state_qual, 0, prevSched, new_df)\n",
    "            new_state.sched.append(resource)\n",
    "            new_state.exp_util = expected_utility(new_state, my_country)\n",
    "            successors.push(new_state.exp_util, new_state)\n",
    "\n",
    "\n",
    "    for resource_1 in ALL_TEMPLATES_TRANSFER:\n",
    "        for resource_2 in ALL_TEMPLATES_TRANSFER:\n",
    "            for other_country in COUNTRY_NAMES:\n",
    "                \n",
    "                new_df = parentNode.getCountrydf()\n",
    "                \n",
    "                if trade(new_df, my_country, other_country, resource_1, resource_2):\n",
    "                    state_qual = maslowHeuristicVal(maslow(new_df, my_country, 5))\n",
    "                    new_state = Node(state_qual, 0, prevSched, new_df)\n",
    "                    trade_name = my_country + \" gives \" + resource_1 + \", \" + other_country + \" gives \" + resource_2\n",
    "                    new_state.sched.append(trade_name)\n",
    "                    new_state.exp_util = expected_utility(new_state, my_country)\n",
    "                    successors.push(eu,new_state)\n",
    "                    \n",
    "    return successors"
   ]
  },
  {
   "cell_type": "markdown",
   "id": "87e1f889",
   "metadata": {},
   "source": [
    "# Reward Functions"
   ]
  },
  {
   "cell_type": "code",
   "execution_count": 33,
   "id": "190c5d04",
   "metadata": {},
   "outputs": [],
   "source": [
    "def undiscounted_reward(node, my_country):\n",
    "    root_node_score = maslowHeuristicVal(maslow(root_country_df, my_country, 5))\n",
    "    cur_node_score = maslowHeuristicVal(maslow(node.getCountrydf(), my_country, 5))\n",
    "    return cur_node_score - root_node_score"
   ]
  },
  {
   "cell_type": "code",
   "execution_count": 34,
   "id": "3b967011",
   "metadata": {},
   "outputs": [],
   "source": [
    "GAMMA = 0.05\n",
    "def discounted_reward(node, my_country):\n",
    "    return (GAMMA ** len(node.getSched()))*undiscounted_reward(node, my_country)"
   ]
  },
  {
   "cell_type": "code",
   "execution_count": 35,
   "id": "6b9a710c",
   "metadata": {},
   "outputs": [],
   "source": [
    "COST_FAILURE = -1\n",
    "PROB = 0.95\n",
    "def expected_utility(node, my_country):\n",
    "    success = PROB * discounted_reward(node, my_country)\n",
    "    fail = (1 - PROB) * COST_FAILURE\n",
    "    return success + fail"
   ]
  },
  {
   "cell_type": "markdown",
   "id": "0293de37",
   "metadata": {},
   "source": [
    "# Node Test Cases "
   ]
  },
  {
   "cell_type": "code",
   "execution_count": 36,
   "id": "adc53e8a",
   "metadata": {},
   "outputs": [],
   "source": [
    "state_qual = 0\n",
    "exp_util = 0\n",
    "sched = ['TRANSFORM', 'TRADE', 'TRANSFER', 'TRANSFORM']\n",
    "test_node = Node(state_qual, exp_util, sched, country_df)"
   ]
  },
  {
   "cell_type": "code",
   "execution_count": 37,
   "id": "ed116cf7",
   "metadata": {},
   "outputs": [
    {
     "data": {
      "text/plain": [
       "-0.050000000000000044"
      ]
     },
     "execution_count": 37,
     "metadata": {},
     "output_type": "execute_result"
    }
   ],
   "source": [
    "expected_utility(test_node, 'Atlantis')"
   ]
  },
  {
   "cell_type": "code",
   "execution_count": 4,
   "id": "38f49282",
   "metadata": {},
   "outputs": [
    {
     "ename": "NameError",
     "evalue": "name 'generate_successors' is not defined",
     "output_type": "error",
     "traceback": [
      "\u001b[1;31m---------------------------------------------------------------------------\u001b[0m",
      "\u001b[1;31mNameError\u001b[0m                                 Traceback (most recent call last)",
      "Input \u001b[1;32mIn [4]\u001b[0m, in \u001b[0;36m<module>\u001b[1;34m\u001b[0m\n\u001b[1;32m----> 1\u001b[0m successors \u001b[38;5;241m=\u001b[39m \u001b[43mgenerate_successors\u001b[49m(test_node, \u001b[38;5;124m'\u001b[39m\u001b[38;5;124mAtlantis\u001b[39m\u001b[38;5;124m'\u001b[39m)\n",
      "\u001b[1;31mNameError\u001b[0m: name 'generate_successors' is not defined"
     ]
    }
   ],
   "source": [
    "successors = generate_successors(test_node, 'Atlantis')"
   ]
  },
  {
   "cell_type": "code",
   "execution_count": 3,
   "id": "51c267e1",
   "metadata": {},
   "outputs": [
    {
     "ename": "NameError",
     "evalue": "name 'successors' is not defined",
     "output_type": "error",
     "traceback": [
      "\u001b[1;31m---------------------------------------------------------------------------\u001b[0m",
      "\u001b[1;31mNameError\u001b[0m                                 Traceback (most recent call last)",
      "Input \u001b[1;32mIn [3]\u001b[0m, in \u001b[0;36m<module>\u001b[1;34m\u001b[0m\n\u001b[1;32m----> 1\u001b[0m suc1 \u001b[38;5;241m=\u001b[39m \u001b[43msuccessors\u001b[49m\u001b[38;5;241m.\u001b[39mpop()\n",
      "\u001b[1;31mNameError\u001b[0m: name 'successors' is not defined"
     ]
    }
   ],
   "source": [
    "suc1 = successors.pop()"
   ]
  },
  {
   "cell_type": "code",
   "execution_count": 20,
   "id": "d0f6e00c",
   "metadata": {},
   "outputs": [
    {
     "name": "stdout",
     "output_type": "stream",
     "text": [
      "yes\n"
     ]
    }
   ],
   "source": [
    "yes = BoundedPriorityQueue()\n",
    "yes.push(4, \"yes\")\n",
    "yes.push(1, \"no\")\n",
    "yes.len()\n",
    "print(yes.pop())"
   ]
  },
  {
   "cell_type": "code",
   "execution_count": null,
   "id": "8b6175c0",
   "metadata": {},
   "outputs": [],
   "source": []
  }
 ],
 "metadata": {
  "kernelspec": {
   "display_name": "Python 3 (ipykernel)",
   "language": "python",
   "name": "python3"
  },
  "language_info": {
   "codemirror_mode": {
    "name": "ipython",
    "version": 3
   },
   "file_extension": ".py",
   "mimetype": "text/x-python",
   "name": "python",
   "nbconvert_exporter": "python",
   "pygments_lexer": "ipython3",
   "version": "3.10.2"
  }
 },
 "nbformat": 4,
 "nbformat_minor": 5
}
