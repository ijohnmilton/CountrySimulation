{
 "cells": [
  {
   "cell_type": "markdown",
   "id": "2b72565f",
   "metadata": {},
   "source": [
    "## Handle Imports"
   ]
  },
  {
   "cell_type": "code",
   "execution_count": 40,
   "id": "2f3a1795",
   "metadata": {},
   "outputs": [],
   "source": [
    "import numpy\n",
    "import pandas\n",
    "import csv"
   ]
  },
  {
   "cell_type": "markdown",
   "id": "01965101",
   "metadata": {},
   "source": [
    "## Upload methods"
   ]
  },
  {
   "cell_type": "markdown",
   "id": "eae1dcee",
   "metadata": {},
   "source": [
    "### Load Countries"
   ]
  },
  {
   "cell_type": "code",
   "execution_count": 41,
   "id": "d76f8ebc",
   "metadata": {},
   "outputs": [],
   "source": [
    "def load_countries() -> dict:\n",
    "    countries = {}\n",
    "\n",
    "    with open(\"countries.csv\") as file:\n",
    "        reader = csv.DictReader(file)\n",
    "        for row in reader:\n",
    "            key = row[\"Country\"]\n",
    "            countries[key] = {name: int(value) for name, value in row.items() if name != \"Country\"}\n",
    "\n",
    "    return countries"
   ]
  },
  {
   "cell_type": "markdown",
   "id": "a49654fc",
   "metadata": {},
   "source": [
    "### Load Resources"
   ]
  },
  {
   "cell_type": "code",
   "execution_count": 42,
   "id": "dfedca4a",
   "metadata": {},
   "outputs": [],
   "source": [
    "def load_resources() -> dict:\n",
    "    resources = {}\n",
    "\n",
    "    with open(\"resources.csv\") as file:\n",
    "        reader = csv.DictReader(file)\n",
    "        for row in reader:\n",
    "            key = row[\"Resource\"]\n",
    "            resources[key] = {name: float(value) if name == \"Weight\" else value for name, value in row.items() if name != \"Resource\"}\n",
    "\n",
    "    return resources"
   ]
  },
  {
   "cell_type": "markdown",
   "id": "ffda5f1e",
   "metadata": {},
   "source": [
    "## Upload Countries"
   ]
  },
  {
   "cell_type": "code",
   "execution_count": 43,
   "id": "fcc3b988",
   "metadata": {},
   "outputs": [],
   "source": [
    "countryList = load_countries()"
   ]
  },
  {
   "cell_type": "code",
   "execution_count": 44,
   "id": "0e8e7063",
   "metadata": {},
   "outputs": [],
   "source": [
    "resourceList = load_resources()"
   ]
  },
  {
   "cell_type": "code",
   "execution_count": 45,
   "id": "eae76872",
   "metadata": {},
   "outputs": [
    {
     "name": "stdout",
     "output_type": "stream",
     "text": [
      "{'Atlantis': {'R1': 20, 'R2': 12, 'R3': 10, 'R4': 20, 'R5': 10, 'R6': 5, 'R7': 9, 'R8': 40, 'R9': 1, 'R10': 24}, 'Dinotopoia': {'R1': 15, 'R2': 0, 'R3': 2, 'R4': 60, 'R5': 0, 'R6': 0, 'R7': 10, 'R8': 4, 'R9': 2, 'R10': 56}, 'Erewhon': {'R1': 21, 'R2': 2, 'R3': 3, 'R4': 40, 'R5': 0, 'R6': 30, 'R7': 26, 'R8': 2, 'R9': 0, 'R10': 43}, \"King's Landing\": {'R1': 80, 'R2': 3, 'R3': 4, 'R4': 30, 'R5': 0, 'R6': 15, 'R7': 35, 'R8': 3, 'R9': 0, 'R10': 23}, 'The Vale': {'R1': 43, 'R2': 1, 'R3': 5, 'R4': 10, 'R5': 0, 'R6': 12, 'R7': 30, 'R8': 4, 'R9': 0, 'R10': 10}}\n"
     ]
    }
   ],
   "source": [
    "print(countryList)"
   ]
  },
  {
   "cell_type": "code",
   "execution_count": 46,
   "id": "e2ffa3c7",
   "metadata": {},
   "outputs": [
    {
     "name": "stdout",
     "output_type": "stream",
     "text": [
      "{'R1': {'Weight': 0.0, 'Notes': 'analog to population'}, 'R2': {'Weight': 0.0, 'Notes': 'analog to metalic elements'}, 'R3': {'Weight': 0.0, 'Notes': 'analog to timber'}, 'R4': {'Weight': 0.2, 'Notes': 'analog to metallic alloys'}, 'R5': {'Weight': 0.5, 'Notes': 'analog to electronics'}, 'R6': {'Weight': 0.8, 'Notes': 'analog to housing'}, 'R7': {'Weight': -0.5, 'Notes': 'waste'}, 'R8': {'Weight': -0.8, 'Notes': 'waste'}, 'R9': {'Weight': -0.4, 'Notes': 'waste'}, 'R10': {'Weight': -0.2, 'Notes': 'waste'}}\n"
     ]
    }
   ],
   "source": [
    "print(resourceList)"
   ]
  },
  {
   "cell_type": "code",
   "execution_count": null,
   "id": "8f8e37fc",
   "metadata": {},
   "outputs": [],
   "source": []
  }
 ],
 "metadata": {
  "kernelspec": {
   "display_name": "Python 3 (ipykernel)",
   "language": "python",
   "name": "python3"
  },
  "language_info": {
   "codemirror_mode": {
    "name": "ipython",
    "version": 3
   },
   "file_extension": ".py",
   "mimetype": "text/x-python",
   "name": "python",
   "nbconvert_exporter": "python",
   "pygments_lexer": "ipython3",
   "version": "3.8.11"
  }
 },
 "nbformat": 4,
 "nbformat_minor": 5
}
